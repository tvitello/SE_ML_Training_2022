{
 "cells": [
  {
   "cell_type": "markdown",
   "id": "f8ca5668",
   "metadata": {},
   "source": [
    "<img src=\"https://upload.wikimedia.org/wikipedia/commons/thumb/f/f2/Siemens_Energy_logo.svg/1920px-Siemens_Energy_logo.svg.png\" width = 150 height = 150\\\n",
    "     align = 'left'>"
   ]
  },
  {
   "cell_type": "markdown",
   "id": "61964804",
   "metadata": {},
   "source": [
    "# PGDA ML Training, 2022\n",
    "## <font color = 'blue'> Case Study 3:</font> <font color = 'orange'>Transportation Study </font>\n",
    "### <a href=mailto:mohamad-ali.mortada@siemens-energy.com>Ali Mortada</a> and <a href=mailto:travis.vitello@siemens-energy.com>Travis Vitello</a>"
   ]
  },
  {
   "cell_type": "code",
   "execution_count": 1,
   "id": "d03b2730",
   "metadata": {},
   "outputs": [],
   "source": [
    "import pandas as pd\n",
    "import numpy as np\n",
    "import warnings\n",
    "warnings.filterwarnings('ignore')"
   ]
  },
  {
   "cell_type": "code",
   "execution_count": 2,
   "id": "aec7f141",
   "metadata": {},
   "outputs": [],
   "source": [
    "df = pd.read_csv(\"commute_time.csv\")"
   ]
  },
  {
   "cell_type": "code",
   "execution_count": 3,
   "id": "bab4f3a3",
   "metadata": {},
   "outputs": [
    {
     "data": {
      "text/html": [
       "<div>\n",
       "<style scoped>\n",
       "    .dataframe tbody tr th:only-of-type {\n",
       "        vertical-align: middle;\n",
       "    }\n",
       "\n",
       "    .dataframe tbody tr th {\n",
       "        vertical-align: top;\n",
       "    }\n",
       "\n",
       "    .dataframe thead th {\n",
       "        text-align: right;\n",
       "    }\n",
       "</style>\n",
       "<table border=\"1\" class=\"dataframe\">\n",
       "  <thead>\n",
       "    <tr style=\"text-align: right;\">\n",
       "      <th></th>\n",
       "      <th>cartime</th>\n",
       "      <th>carcost</th>\n",
       "      <th>traintime</th>\n",
       "      <th>traincost</th>\n",
       "      <th>choice</th>\n",
       "    </tr>\n",
       "  </thead>\n",
       "  <tbody>\n",
       "    <tr>\n",
       "      <th>0</th>\n",
       "      <td>70</td>\n",
       "      <td>50</td>\n",
       "      <td>64</td>\n",
       "      <td>39</td>\n",
       "      <td>TRAIN</td>\n",
       "    </tr>\n",
       "    <tr>\n",
       "      <th>1</th>\n",
       "      <td>50</td>\n",
       "      <td>230</td>\n",
       "      <td>60</td>\n",
       "      <td>32</td>\n",
       "      <td>TRAIN</td>\n",
       "    </tr>\n",
       "    <tr>\n",
       "      <th>2</th>\n",
       "      <td>50</td>\n",
       "      <td>70</td>\n",
       "      <td>58</td>\n",
       "      <td>40</td>\n",
       "      <td>CAR</td>\n",
       "    </tr>\n",
       "    <tr>\n",
       "      <th>3</th>\n",
       "      <td>60</td>\n",
       "      <td>108</td>\n",
       "      <td>93</td>\n",
       "      <td>62</td>\n",
       "      <td>CAR</td>\n",
       "    </tr>\n",
       "    <tr>\n",
       "      <th>4</th>\n",
       "      <td>70</td>\n",
       "      <td>60</td>\n",
       "      <td>68</td>\n",
       "      <td>26</td>\n",
       "      <td>TRAIN</td>\n",
       "    </tr>\n",
       "    <tr>\n",
       "      <th>...</th>\n",
       "      <td>...</td>\n",
       "      <td>...</td>\n",
       "      <td>...</td>\n",
       "      <td>...</td>\n",
       "      <td>...</td>\n",
       "    </tr>\n",
       "    <tr>\n",
       "      <th>328</th>\n",
       "      <td>27</td>\n",
       "      <td>50</td>\n",
       "      <td>52</td>\n",
       "      <td>40</td>\n",
       "      <td>CAR</td>\n",
       "    </tr>\n",
       "    <tr>\n",
       "      <th>329</th>\n",
       "      <td>25</td>\n",
       "      <td>25</td>\n",
       "      <td>63</td>\n",
       "      <td>80</td>\n",
       "      <td>CAR</td>\n",
       "    </tr>\n",
       "    <tr>\n",
       "      <th>330</th>\n",
       "      <td>50</td>\n",
       "      <td>50</td>\n",
       "      <td>80</td>\n",
       "      <td>50</td>\n",
       "      <td>CAR</td>\n",
       "    </tr>\n",
       "    <tr>\n",
       "      <th>331</th>\n",
       "      <td>25</td>\n",
       "      <td>25</td>\n",
       "      <td>39</td>\n",
       "      <td>20</td>\n",
       "      <td>CAR</td>\n",
       "    </tr>\n",
       "    <tr>\n",
       "      <th>332</th>\n",
       "      <td>35</td>\n",
       "      <td>64</td>\n",
       "      <td>95</td>\n",
       "      <td>40</td>\n",
       "      <td>CAR</td>\n",
       "    </tr>\n",
       "  </tbody>\n",
       "</table>\n",
       "<p>333 rows × 5 columns</p>\n",
       "</div>"
      ],
      "text/plain": [
       "     cartime  carcost  traintime  traincost choice\n",
       "0         70       50         64         39  TRAIN\n",
       "1         50      230         60         32  TRAIN\n",
       "2         50       70         58         40    CAR\n",
       "3         60      108         93         62    CAR\n",
       "4         70       60         68         26  TRAIN\n",
       "..       ...      ...        ...        ...    ...\n",
       "328       27       50         52         40    CAR\n",
       "329       25       25         63         80    CAR\n",
       "330       50       50         80         50    CAR\n",
       "331       25       25         39         20    CAR\n",
       "332       35       64         95         40    CAR\n",
       "\n",
       "[333 rows x 5 columns]"
      ]
     },
     "execution_count": 3,
     "metadata": {},
     "output_type": "execute_result"
    }
   ],
   "source": [
    "df"
   ]
  },
  {
   "cell_type": "code",
   "execution_count": 4,
   "id": "9005dd11",
   "metadata": {},
   "outputs": [],
   "source": [
    "df_x = df[[\"cartime\",\"carcost\",\"traintime\",\"traincost\"]]"
   ]
  },
  {
   "cell_type": "code",
   "execution_count": 5,
   "id": "b6e479a6",
   "metadata": {},
   "outputs": [],
   "source": [
    "df_x[\"cost_delta\"] = df_x.carcost - df_x.traincost\n",
    "df[\"cost_delta\"] = df.carcost - df.traincost"
   ]
  },
  {
   "cell_type": "code",
   "execution_count": 6,
   "id": "dcd65701",
   "metadata": {},
   "outputs": [],
   "source": [
    "df_x[\"time_delta\"] = df_x.cartime - df_x.traintime\n",
    "df[\"time_delta\"] = df.cartime - df.traintime"
   ]
  },
  {
   "cell_type": "code",
   "execution_count": 7,
   "id": "b6f8c21a",
   "metadata": {},
   "outputs": [],
   "source": [
    "df_x[\"car_time_over_50\"] = df_x.cartime > 50\n",
    "df[\"car_time_over_50\"] = df.cartime > 50"
   ]
  },
  {
   "cell_type": "code",
   "execution_count": 8,
   "id": "33c63310",
   "metadata": {},
   "outputs": [],
   "source": [
    "df_x[\"train_time_over_50\"] = df_x.traintime > 50\n",
    "df[\"train_time_over_50\"] = df.traintime > 50"
   ]
  },
  {
   "cell_type": "code",
   "execution_count": 9,
   "id": "2154daac",
   "metadata": {},
   "outputs": [],
   "source": [
    "df_x[\"car_cost_over_100\"] = df_x.carcost > 100\n",
    "df[\"car_cost_over_100\"] = df.carcost > 100"
   ]
  },
  {
   "cell_type": "code",
   "execution_count": 10,
   "id": "236c24bf",
   "metadata": {},
   "outputs": [],
   "source": [
    "df_x[\"train_cost_over_50\"] = df_x.traincost > 50\n",
    "df[\"train_cost_over_50\"] = df.traincost > 50"
   ]
  },
  {
   "cell_type": "code",
   "execution_count": 11,
   "id": "46ac8b4f",
   "metadata": {},
   "outputs": [],
   "source": [
    "df_x[\"car_to_train_time\"] = df_x.cartime / df_x.traintime\n",
    "df[\"car_to_train_time\"] = df.cartime / df.traintime"
   ]
  },
  {
   "cell_type": "code",
   "execution_count": 12,
   "id": "36a11df5",
   "metadata": {},
   "outputs": [],
   "source": [
    "df_x[\"car_to_train_cost\"] = df_x.carcost / df_x.traincost\n",
    "df[\"car_to_train_cost\"] = df.carcost / df.traincost"
   ]
  },
  {
   "cell_type": "code",
   "execution_count": null,
   "id": "c98114be",
   "metadata": {},
   "outputs": [],
   "source": []
  },
  {
   "cell_type": "code",
   "execution_count": null,
   "id": "e6f9fe9a",
   "metadata": {},
   "outputs": [],
   "source": []
  },
  {
   "cell_type": "code",
   "execution_count": 13,
   "id": "025028bb",
   "metadata": {},
   "outputs": [],
   "source": [
    "df_x.car_time_over_50 = df_x.car_time_over_50.map({True: 1, False: 0})\n",
    "df_x.train_time_over_50 = df_x.train_time_over_50.map({True: 1, False: 0})\n",
    "df_x.car_cost_over_100 = df_x.car_cost_over_100.map({True: 1, False: 0})\n",
    "df_x.train_cost_over_50 = df_x.train_cost_over_50.map({True: 1, False: 0})\n",
    "\n",
    "df.car_time_over_50 = df.car_time_over_50.map({True: 1, False: 0})\n",
    "df.train_time_over_50 = df.train_time_over_50.map({True: 1, False: 0})\n",
    "df.car_cost_over_100 = df.car_cost_over_100.map({True: 1, False: 0})\n",
    "df.train_cost_over_50 = df.train_cost_over_50.map({True: 1, False: 0})"
   ]
  },
  {
   "cell_type": "code",
   "execution_count": 14,
   "id": "2918d438",
   "metadata": {},
   "outputs": [],
   "source": [
    "df_y = df[[\"choice\"]]"
   ]
  },
  {
   "cell_type": "code",
   "execution_count": 15,
   "id": "d72b72a3",
   "metadata": {},
   "outputs": [
    {
     "data": {
      "text/html": [
       "<div>\n",
       "<style scoped>\n",
       "    .dataframe tbody tr th:only-of-type {\n",
       "        vertical-align: middle;\n",
       "    }\n",
       "\n",
       "    .dataframe tbody tr th {\n",
       "        vertical-align: top;\n",
       "    }\n",
       "\n",
       "    .dataframe thead th {\n",
       "        text-align: right;\n",
       "    }\n",
       "</style>\n",
       "<table border=\"1\" class=\"dataframe\">\n",
       "  <thead>\n",
       "    <tr style=\"text-align: right;\">\n",
       "      <th></th>\n",
       "      <th>cartime</th>\n",
       "      <th>carcost</th>\n",
       "      <th>traintime</th>\n",
       "      <th>traincost</th>\n",
       "      <th>cost_delta</th>\n",
       "      <th>time_delta</th>\n",
       "      <th>car_time_over_50</th>\n",
       "      <th>train_time_over_50</th>\n",
       "      <th>car_cost_over_100</th>\n",
       "      <th>train_cost_over_50</th>\n",
       "      <th>car_to_train_time</th>\n",
       "      <th>car_to_train_cost</th>\n",
       "    </tr>\n",
       "  </thead>\n",
       "  <tbody>\n",
       "    <tr>\n",
       "      <th>0</th>\n",
       "      <td>70</td>\n",
       "      <td>50</td>\n",
       "      <td>64</td>\n",
       "      <td>39</td>\n",
       "      <td>11</td>\n",
       "      <td>6</td>\n",
       "      <td>1</td>\n",
       "      <td>1</td>\n",
       "      <td>0</td>\n",
       "      <td>0</td>\n",
       "      <td>1.093750</td>\n",
       "      <td>1.282051</td>\n",
       "    </tr>\n",
       "    <tr>\n",
       "      <th>1</th>\n",
       "      <td>50</td>\n",
       "      <td>230</td>\n",
       "      <td>60</td>\n",
       "      <td>32</td>\n",
       "      <td>198</td>\n",
       "      <td>-10</td>\n",
       "      <td>0</td>\n",
       "      <td>1</td>\n",
       "      <td>1</td>\n",
       "      <td>0</td>\n",
       "      <td>0.833333</td>\n",
       "      <td>7.187500</td>\n",
       "    </tr>\n",
       "    <tr>\n",
       "      <th>2</th>\n",
       "      <td>50</td>\n",
       "      <td>70</td>\n",
       "      <td>58</td>\n",
       "      <td>40</td>\n",
       "      <td>30</td>\n",
       "      <td>-8</td>\n",
       "      <td>0</td>\n",
       "      <td>1</td>\n",
       "      <td>0</td>\n",
       "      <td>0</td>\n",
       "      <td>0.862069</td>\n",
       "      <td>1.750000</td>\n",
       "    </tr>\n",
       "    <tr>\n",
       "      <th>3</th>\n",
       "      <td>60</td>\n",
       "      <td>108</td>\n",
       "      <td>93</td>\n",
       "      <td>62</td>\n",
       "      <td>46</td>\n",
       "      <td>-33</td>\n",
       "      <td>1</td>\n",
       "      <td>1</td>\n",
       "      <td>1</td>\n",
       "      <td>1</td>\n",
       "      <td>0.645161</td>\n",
       "      <td>1.741935</td>\n",
       "    </tr>\n",
       "    <tr>\n",
       "      <th>4</th>\n",
       "      <td>70</td>\n",
       "      <td>60</td>\n",
       "      <td>68</td>\n",
       "      <td>26</td>\n",
       "      <td>34</td>\n",
       "      <td>2</td>\n",
       "      <td>1</td>\n",
       "      <td>1</td>\n",
       "      <td>0</td>\n",
       "      <td>0</td>\n",
       "      <td>1.029412</td>\n",
       "      <td>2.307692</td>\n",
       "    </tr>\n",
       "    <tr>\n",
       "      <th>...</th>\n",
       "      <td>...</td>\n",
       "      <td>...</td>\n",
       "      <td>...</td>\n",
       "      <td>...</td>\n",
       "      <td>...</td>\n",
       "      <td>...</td>\n",
       "      <td>...</td>\n",
       "      <td>...</td>\n",
       "      <td>...</td>\n",
       "      <td>...</td>\n",
       "      <td>...</td>\n",
       "      <td>...</td>\n",
       "    </tr>\n",
       "    <tr>\n",
       "      <th>328</th>\n",
       "      <td>27</td>\n",
       "      <td>50</td>\n",
       "      <td>52</td>\n",
       "      <td>40</td>\n",
       "      <td>10</td>\n",
       "      <td>-25</td>\n",
       "      <td>0</td>\n",
       "      <td>1</td>\n",
       "      <td>0</td>\n",
       "      <td>0</td>\n",
       "      <td>0.519231</td>\n",
       "      <td>1.250000</td>\n",
       "    </tr>\n",
       "    <tr>\n",
       "      <th>329</th>\n",
       "      <td>25</td>\n",
       "      <td>25</td>\n",
       "      <td>63</td>\n",
       "      <td>80</td>\n",
       "      <td>-55</td>\n",
       "      <td>-38</td>\n",
       "      <td>0</td>\n",
       "      <td>1</td>\n",
       "      <td>0</td>\n",
       "      <td>1</td>\n",
       "      <td>0.396825</td>\n",
       "      <td>0.312500</td>\n",
       "    </tr>\n",
       "    <tr>\n",
       "      <th>330</th>\n",
       "      <td>50</td>\n",
       "      <td>50</td>\n",
       "      <td>80</td>\n",
       "      <td>50</td>\n",
       "      <td>0</td>\n",
       "      <td>-30</td>\n",
       "      <td>0</td>\n",
       "      <td>1</td>\n",
       "      <td>0</td>\n",
       "      <td>0</td>\n",
       "      <td>0.625000</td>\n",
       "      <td>1.000000</td>\n",
       "    </tr>\n",
       "    <tr>\n",
       "      <th>331</th>\n",
       "      <td>25</td>\n",
       "      <td>25</td>\n",
       "      <td>39</td>\n",
       "      <td>20</td>\n",
       "      <td>5</td>\n",
       "      <td>-14</td>\n",
       "      <td>0</td>\n",
       "      <td>0</td>\n",
       "      <td>0</td>\n",
       "      <td>0</td>\n",
       "      <td>0.641026</td>\n",
       "      <td>1.250000</td>\n",
       "    </tr>\n",
       "    <tr>\n",
       "      <th>332</th>\n",
       "      <td>35</td>\n",
       "      <td>64</td>\n",
       "      <td>95</td>\n",
       "      <td>40</td>\n",
       "      <td>24</td>\n",
       "      <td>-60</td>\n",
       "      <td>0</td>\n",
       "      <td>1</td>\n",
       "      <td>0</td>\n",
       "      <td>0</td>\n",
       "      <td>0.368421</td>\n",
       "      <td>1.600000</td>\n",
       "    </tr>\n",
       "  </tbody>\n",
       "</table>\n",
       "<p>333 rows × 12 columns</p>\n",
       "</div>"
      ],
      "text/plain": [
       "     cartime  carcost  traintime  traincost  cost_delta  time_delta  \\\n",
       "0         70       50         64         39          11           6   \n",
       "1         50      230         60         32         198         -10   \n",
       "2         50       70         58         40          30          -8   \n",
       "3         60      108         93         62          46         -33   \n",
       "4         70       60         68         26          34           2   \n",
       "..       ...      ...        ...        ...         ...         ...   \n",
       "328       27       50         52         40          10         -25   \n",
       "329       25       25         63         80         -55         -38   \n",
       "330       50       50         80         50           0         -30   \n",
       "331       25       25         39         20           5         -14   \n",
       "332       35       64         95         40          24         -60   \n",
       "\n",
       "     car_time_over_50  train_time_over_50  car_cost_over_100  \\\n",
       "0                   1                   1                  0   \n",
       "1                   0                   1                  1   \n",
       "2                   0                   1                  0   \n",
       "3                   1                   1                  1   \n",
       "4                   1                   1                  0   \n",
       "..                ...                 ...                ...   \n",
       "328                 0                   1                  0   \n",
       "329                 0                   1                  0   \n",
       "330                 0                   1                  0   \n",
       "331                 0                   0                  0   \n",
       "332                 0                   1                  0   \n",
       "\n",
       "     train_cost_over_50  car_to_train_time  car_to_train_cost  \n",
       "0                     0           1.093750           1.282051  \n",
       "1                     0           0.833333           7.187500  \n",
       "2                     0           0.862069           1.750000  \n",
       "3                     1           0.645161           1.741935  \n",
       "4                     0           1.029412           2.307692  \n",
       "..                  ...                ...                ...  \n",
       "328                   0           0.519231           1.250000  \n",
       "329                   1           0.396825           0.312500  \n",
       "330                   0           0.625000           1.000000  \n",
       "331                   0           0.641026           1.250000  \n",
       "332                   0           0.368421           1.600000  \n",
       "\n",
       "[333 rows x 12 columns]"
      ]
     },
     "execution_count": 15,
     "metadata": {},
     "output_type": "execute_result"
    }
   ],
   "source": [
    "df_x"
   ]
  },
  {
   "cell_type": "code",
   "execution_count": 16,
   "id": "6eb4d94a",
   "metadata": {},
   "outputs": [
    {
     "data": {
      "text/html": [
       "<div>\n",
       "<style scoped>\n",
       "    .dataframe tbody tr th:only-of-type {\n",
       "        vertical-align: middle;\n",
       "    }\n",
       "\n",
       "    .dataframe tbody tr th {\n",
       "        vertical-align: top;\n",
       "    }\n",
       "\n",
       "    .dataframe thead th {\n",
       "        text-align: right;\n",
       "    }\n",
       "</style>\n",
       "<table border=\"1\" class=\"dataframe\">\n",
       "  <thead>\n",
       "    <tr style=\"text-align: right;\">\n",
       "      <th></th>\n",
       "      <th>choice</th>\n",
       "    </tr>\n",
       "  </thead>\n",
       "  <tbody>\n",
       "    <tr>\n",
       "      <th>0</th>\n",
       "      <td>TRAIN</td>\n",
       "    </tr>\n",
       "    <tr>\n",
       "      <th>1</th>\n",
       "      <td>TRAIN</td>\n",
       "    </tr>\n",
       "    <tr>\n",
       "      <th>2</th>\n",
       "      <td>CAR</td>\n",
       "    </tr>\n",
       "    <tr>\n",
       "      <th>3</th>\n",
       "      <td>CAR</td>\n",
       "    </tr>\n",
       "    <tr>\n",
       "      <th>4</th>\n",
       "      <td>TRAIN</td>\n",
       "    </tr>\n",
       "    <tr>\n",
       "      <th>...</th>\n",
       "      <td>...</td>\n",
       "    </tr>\n",
       "    <tr>\n",
       "      <th>328</th>\n",
       "      <td>CAR</td>\n",
       "    </tr>\n",
       "    <tr>\n",
       "      <th>329</th>\n",
       "      <td>CAR</td>\n",
       "    </tr>\n",
       "    <tr>\n",
       "      <th>330</th>\n",
       "      <td>CAR</td>\n",
       "    </tr>\n",
       "    <tr>\n",
       "      <th>331</th>\n",
       "      <td>CAR</td>\n",
       "    </tr>\n",
       "    <tr>\n",
       "      <th>332</th>\n",
       "      <td>CAR</td>\n",
       "    </tr>\n",
       "  </tbody>\n",
       "</table>\n",
       "<p>333 rows × 1 columns</p>\n",
       "</div>"
      ],
      "text/plain": [
       "    choice\n",
       "0    TRAIN\n",
       "1    TRAIN\n",
       "2      CAR\n",
       "3      CAR\n",
       "4    TRAIN\n",
       "..     ...\n",
       "328    CAR\n",
       "329    CAR\n",
       "330    CAR\n",
       "331    CAR\n",
       "332    CAR\n",
       "\n",
       "[333 rows x 1 columns]"
      ]
     },
     "execution_count": 16,
     "metadata": {},
     "output_type": "execute_result"
    }
   ],
   "source": [
    "df_y"
   ]
  },
  {
   "cell_type": "code",
   "execution_count": 17,
   "id": "62aca1bf",
   "metadata": {},
   "outputs": [],
   "source": [
    "df_y.choice = df_y.choice.map({'TRAIN': 1, 'CAR': 0})"
   ]
  },
  {
   "cell_type": "markdown",
   "id": "416dfc46",
   "metadata": {},
   "source": [
    "# Data Exploration"
   ]
  },
  {
   "cell_type": "code",
   "execution_count": 18,
   "id": "ff8a84c0",
   "metadata": {},
   "outputs": [],
   "source": [
    "#!pip install pandas-profiling"
   ]
  },
  {
   "cell_type": "code",
   "execution_count": 19,
   "id": "e9b9b709",
   "metadata": {},
   "outputs": [],
   "source": [
    "from pandas_profiling import ProfileReport\n",
    "profile = ProfileReport(df, minimal=True)"
   ]
  },
  {
   "cell_type": "code",
   "execution_count": 1,
   "id": "ab8ded92",
   "metadata": {},
   "outputs": [],
   "source": [
    "#profile"
   ]
  },
  {
   "cell_type": "markdown",
   "id": "4bb4cd17",
   "metadata": {},
   "source": [
    "# Data Prep"
   ]
  },
  {
   "cell_type": "code",
   "execution_count": 21,
   "id": "df993ef6",
   "metadata": {},
   "outputs": [],
   "source": [
    "from sklearn.model_selection import train_test_split"
   ]
  },
  {
   "cell_type": "code",
   "execution_count": 22,
   "id": "c495e112",
   "metadata": {},
   "outputs": [],
   "source": [
    "X_train, X_test, y_train, y_test = train_test_split(df_x, df_y, test_size=0.25, random_state=42)"
   ]
  },
  {
   "cell_type": "code",
   "execution_count": 23,
   "id": "65c1e0fd",
   "metadata": {},
   "outputs": [],
   "source": [
    "import matplotlib.pyplot as plt\n",
    "import seaborn as sns\n",
    "from sklearn import metrics\n",
    "from sklearn.metrics import accuracy_score"
   ]
  },
  {
   "cell_type": "code",
   "execution_count": 24,
   "id": "e11d3315",
   "metadata": {},
   "outputs": [
    {
     "data": {
      "text/plain": [
       "choice\n",
       "0    136\n",
       "1    113\n",
       "dtype: int64"
      ]
     },
     "execution_count": 24,
     "metadata": {},
     "output_type": "execute_result"
    }
   ],
   "source": [
    "y_train.groupby(\"choice\").size()"
   ]
  },
  {
   "cell_type": "code",
   "execution_count": 25,
   "id": "dfc28308",
   "metadata": {},
   "outputs": [
    {
     "data": {
      "text/plain": [
       "1.2035398230088497"
      ]
     },
     "execution_count": 25,
     "metadata": {},
     "output_type": "execute_result"
    }
   ],
   "source": [
    "y_train.groupby(\"choice\").size()[0] / y_train.groupby(\"choice\").size()[1] "
   ]
  },
  {
   "cell_type": "code",
   "execution_count": 26,
   "id": "d6fb1396",
   "metadata": {},
   "outputs": [
    {
     "data": {
      "text/plain": [
       "choice\n",
       "0    47\n",
       "1    37\n",
       "dtype: int64"
      ]
     },
     "execution_count": 26,
     "metadata": {},
     "output_type": "execute_result"
    }
   ],
   "source": [
    "y_test.groupby(\"choice\").size()"
   ]
  },
  {
   "cell_type": "code",
   "execution_count": 27,
   "id": "027efcba",
   "metadata": {},
   "outputs": [
    {
     "data": {
      "text/plain": [
       "1.2702702702702702"
      ]
     },
     "execution_count": 27,
     "metadata": {},
     "output_type": "execute_result"
    }
   ],
   "source": [
    "y_test.groupby(\"choice\").size()[0] / y_test.groupby(\"choice\").size()[1] "
   ]
  },
  {
   "cell_type": "markdown",
   "id": "cbc8adfc",
   "metadata": {},
   "source": [
    "# Logistic Regression"
   ]
  },
  {
   "cell_type": "code",
   "execution_count": 28,
   "id": "de5fe6a0",
   "metadata": {},
   "outputs": [],
   "source": [
    "from sklearn.linear_model import LogisticRegression"
   ]
  },
  {
   "cell_type": "code",
   "execution_count": 29,
   "id": "1d5c3a2b",
   "metadata": {},
   "outputs": [],
   "source": [
    "log_model = LogisticRegression()"
   ]
  },
  {
   "cell_type": "code",
   "execution_count": 30,
   "id": "f1c3e227",
   "metadata": {},
   "outputs": [
    {
     "data": {
      "text/plain": [
       "LogisticRegression()"
      ]
     },
     "execution_count": 30,
     "metadata": {},
     "output_type": "execute_result"
    }
   ],
   "source": [
    "log_model.fit(X_train, y_train.values.ravel())"
   ]
  },
  {
   "cell_type": "code",
   "execution_count": 31,
   "id": "0a73537a",
   "metadata": {},
   "outputs": [
    {
     "data": {
      "text/plain": [
       "array([0, 1, 0, 0, 0, 1, 1, 0, 1, 0, 1, 0, 0, 1, 1, 0, 0, 0, 0, 0, 0, 1,\n",
       "       1, 0, 0, 0, 1, 0, 1, 0, 0, 1, 0, 0, 1, 1, 0, 1, 0, 1, 0, 0, 1, 1,\n",
       "       1, 0, 1, 0, 0, 1, 1, 0, 0, 1, 0, 0, 0, 1, 0, 0, 0, 1, 0, 0, 0, 1,\n",
       "       0, 0, 0, 0, 1, 0, 0, 0, 0, 0, 0, 0, 0, 1, 0, 0, 0, 1], dtype=int64)"
      ]
     },
     "execution_count": 31,
     "metadata": {},
     "output_type": "execute_result"
    }
   ],
   "source": [
    "log_model.predict(X_test)"
   ]
  },
  {
   "cell_type": "code",
   "execution_count": 32,
   "id": "60b257a8",
   "metadata": {},
   "outputs": [
    {
     "name": "stdout",
     "output_type": "stream",
     "text": [
      "Test accuracy: 0.7857142857142857\n"
     ]
    }
   ],
   "source": [
    "lr_score = log_model.score(X_test, y_test)\n",
    "print('Test accuracy:', accuracy_score(y_test, y_pred = log_model.predict(X_test)))"
   ]
  },
  {
   "cell_type": "code",
   "execution_count": 33,
   "id": "a42f151e",
   "metadata": {},
   "outputs": [
    {
     "name": "stdout",
     "output_type": "stream",
     "text": [
      "[[42  5]\n",
      " [13 24]]\n"
     ]
    }
   ],
   "source": [
    "lr_predictions = log_model.predict(X_test)\n",
    "lr_cm = metrics.confusion_matrix(y_test, lr_predictions)\n",
    "print(lr_cm)"
   ]
  },
  {
   "cell_type": "code",
   "execution_count": 34,
   "id": "0d21a554",
   "metadata": {},
   "outputs": [
    {
     "data": {
      "image/png": "[encoded data removed]",
      "text/plain": [
       "<Figure size 648x648 with 2 Axes>"
      ]
     },
     "metadata": {
      "needs_background": "light"
     },
     "output_type": "display_data"
    }
   ],
   "source": [
    "plt.figure(figsize=(9,9))\n",
    "sns.heatmap(lr_cm, annot=True, fmt=\".3f\", linewidths=.5, square = True, cmap = 'rocket_r', xticklabels=[\"car\",\"train\"],\\\n",
    "           yticklabels=[\"car\",\"train\"]);\n",
    "plt.ylabel('Actual label');\n",
    "plt.xlabel('Predicted label');\n",
    "all_sample_title = 'Accuracy Score: {0}'.format(lr_score)\n",
    "plt.title(all_sample_title, size = 15);"
   ]
  },
  {
   "cell_type": "markdown",
   "id": "1bc8d5bd",
   "metadata": {},
   "source": [
    "# KNN"
   ]
  },
  {
   "cell_type": "code",
   "execution_count": 35,
   "id": "6e939594",
   "metadata": {},
   "outputs": [],
   "source": [
    "from sklearn.neighbors import KNeighborsClassifier"
   ]
  },
  {
   "cell_type": "code",
   "execution_count": 36,
   "id": "ef0c6430",
   "metadata": {},
   "outputs": [],
   "source": [
    "knn_model = KNeighborsClassifier()"
   ]
  },
  {
   "cell_type": "code",
   "execution_count": 37,
   "id": "71aefdef",
   "metadata": {},
   "outputs": [
    {
     "data": {
      "text/plain": [
       "KNeighborsClassifier()"
      ]
     },
     "execution_count": 37,
     "metadata": {},
     "output_type": "execute_result"
    }
   ],
   "source": [
    "knn_model.fit(X_train, y_train.values.ravel())"
   ]
  },
  {
   "cell_type": "code",
   "execution_count": 38,
   "id": "e4a7bc1a",
   "metadata": {},
   "outputs": [
    {
     "name": "stdout",
     "output_type": "stream",
     "text": [
      "Test accuracy: 0.7976190476190477\n"
     ]
    }
   ],
   "source": [
    "knn_score = knn_model.score(X_test, y_test)\n",
    "print('Test accuracy:', accuracy_score(y_test, y_pred = knn_model.predict(X_test)))"
   ]
  },
  {
   "cell_type": "code",
   "execution_count": 39,
   "id": "aa5f7882",
   "metadata": {},
   "outputs": [
    {
     "name": "stdout",
     "output_type": "stream",
     "text": [
      "[[42  5]\n",
      " [12 25]]\n"
     ]
    }
   ],
   "source": [
    "knn_predictions = knn_model.predict(X_test)\n",
    "knn_cm = metrics.confusion_matrix(y_test, knn_predictions)\n",
    "print(knn_cm)"
   ]
  },
  {
   "cell_type": "code",
   "execution_count": 40,
   "id": "8c66b26c",
   "metadata": {},
   "outputs": [
    {
     "data": {
      "image/png": "[encoded data removed]",
      "text/plain": [
       "<Figure size 648x648 with 2 Axes>"
      ]
     },
     "metadata": {
      "needs_background": "light"
     },
     "output_type": "display_data"
    }
   ],
   "source": [
    "plt.figure(figsize=(9,9))\n",
    "sns.heatmap(knn_cm, annot=True, fmt=\".3f\", linewidths=.5, square = True, cmap = 'mako', xticklabels=[\"car\",\"train\"],\\\n",
    "           yticklabels=[\"car\",\"train\"]);\n",
    "plt.ylabel('Actual label');\n",
    "plt.xlabel('Predicted label');\n",
    "all_sample_title = 'Accuracy Score: {0}'.format(knn_score)\n",
    "plt.title(all_sample_title, size = 15);"
   ]
  },
  {
   "cell_type": "markdown",
   "id": "09122b65",
   "metadata": {},
   "source": [
    "# Random Forest"
   ]
  },
  {
   "cell_type": "code",
   "execution_count": 41,
   "id": "6db78932",
   "metadata": {},
   "outputs": [],
   "source": [
    "from sklearn.ensemble import RandomForestClassifier"
   ]
  },
  {
   "cell_type": "code",
   "execution_count": 42,
   "id": "dbbb8e5f",
   "metadata": {},
   "outputs": [
    {
     "name": "stdout",
     "output_type": "stream",
     "text": [
      "Test accuracy score : 0.7976190476190477\n"
     ]
    }
   ],
   "source": [
    "rf_model = RandomForestClassifier()\n",
    "rf_model.fit(X_train, y_train.values.ravel())\n",
    "rf_y_pred = rf_model.predict(X_test)\n",
    "rf_score = rf_model.score(X_test, y_test)\n",
    "print('Test accuracy score :', accuracy_score(y_test, rf_y_pred))"
   ]
  },
  {
   "cell_type": "code",
   "execution_count": 43,
   "id": "08e7dbb6",
   "metadata": {},
   "outputs": [
    {
     "name": "stdout",
     "output_type": "stream",
     "text": [
      "[[43  4]\n",
      " [13 24]]\n"
     ]
    }
   ],
   "source": [
    "rf_predictions = rf_model.predict(X_test)\n",
    "rf_cm = metrics.confusion_matrix(y_test, rf_predictions)\n",
    "print(rf_cm)"
   ]
  },
  {
   "cell_type": "code",
   "execution_count": 44,
   "id": "fc14ebc7",
   "metadata": {},
   "outputs": [
    {
     "data": {
      "image/png": "[encoded data removed]",
      "text/plain": [
       "<Figure size 648x648 with 2 Axes>"
      ]
     },
     "metadata": {
      "needs_background": "light"
     },
     "output_type": "display_data"
    }
   ],
   "source": [
    "plt.figure(figsize=(9,9))\n",
    "sns.heatmap(rf_cm, annot=True, fmt=\".3f\", linewidths=.5, square = True, cmap = 'flare', xticklabels=[\"car\",\"train\"],\\\n",
    "           yticklabels=[\"car\",\"train\"]);\n",
    "plt.ylabel('Actual label');\n",
    "plt.xlabel('Predicted label');\n",
    "all_sample_title = 'Accuracy Score: {0}'.format(rf_score)\n",
    "plt.title(all_sample_title, size = 15);"
   ]
  },
  {
   "cell_type": "markdown",
   "id": "eb8d596c",
   "metadata": {},
   "source": [
    "# XGBoost"
   ]
  },
  {
   "cell_type": "code",
   "execution_count": 45,
   "id": "141f93a3",
   "metadata": {},
   "outputs": [],
   "source": [
    "from xgboost import XGBClassifier"
   ]
  },
  {
   "cell_type": "code",
   "execution_count": 46,
   "id": "1752a5d9",
   "metadata": {},
   "outputs": [
    {
     "name": "stdout",
     "output_type": "stream",
     "text": [
      "Test accuracy:  0.7857142857142857\n"
     ]
    }
   ],
   "source": [
    "# Fit XGBClassifier with default parameters \n",
    "xgb_model = XGBClassifier()\n",
    "xgb_model.fit(X_train, y_train)\n",
    "# Print accuracy, precision and recall scores on test data\n",
    "xgb_y_pred = xgb_model.predict(X_test)\n",
    "xgb_score = xgb_model.score(X_test, y_test)\n",
    "print('Test accuracy: ', accuracy_score(y_test, xgb_y_pred))"
   ]
  },
  {
   "cell_type": "code",
   "execution_count": 47,
   "id": "565348c4",
   "metadata": {},
   "outputs": [
    {
     "name": "stdout",
     "output_type": "stream",
     "text": [
      "[[41  6]\n",
      " [12 25]]\n"
     ]
    }
   ],
   "source": [
    "xbg_predictions = xgb_model.predict(X_test)\n",
    "xgb_cm = metrics.confusion_matrix(y_test, xbg_predictions)\n",
    "print(xgb_cm)"
   ]
  },
  {
   "cell_type": "code",
   "execution_count": 48,
   "id": "ef6f76b5",
   "metadata": {},
   "outputs": [
    {
     "data": {
      "image/png": "[encoded data removed]",
      "text/plain": [
       "<Figure size 648x648 with 2 Axes>"
      ]
     },
     "metadata": {
      "needs_background": "light"
     },
     "output_type": "display_data"
    }
   ],
   "source": [
    "plt.figure(figsize=(9,9))\n",
    "sns.heatmap(xgb_cm, annot=True, fmt=\".3f\", linewidths=.5, square = True, cmap = 'YlOrBr', xticklabels=[\"car\",\"train\"],\\\n",
    "           yticklabels=[\"car\",\"train\"]);\n",
    "plt.ylabel('Actual label');\n",
    "plt.xlabel('Predicted label');\n",
    "all_sample_title = 'Accuracy Score: {0}'.format(xgb_score)\n",
    "plt.title(all_sample_title, size = 15);"
   ]
  },
  {
   "cell_type": "markdown",
   "id": "3a2057cb",
   "metadata": {},
   "source": [
    "# Neural Networks"
   ]
  },
  {
   "cell_type": "code",
   "execution_count": 49,
   "id": "80951a8a",
   "metadata": {},
   "outputs": [],
   "source": [
    "import tensorflow as tf\n",
    "from tensorflow import keras"
   ]
  },
  {
   "cell_type": "code",
   "execution_count": 50,
   "id": "9281ab69",
   "metadata": {},
   "outputs": [],
   "source": [
    "from tensorflow.keras.models import Sequential\n",
    "from tensorflow.keras.layers import Dense, LeakyReLU\n",
    "from sklearn.model_selection import cross_val_score\n",
    "from sklearn.preprocessing import LabelEncoder\n",
    "from sklearn.model_selection import StratifiedKFold\n",
    "from sklearn.preprocessing import StandardScaler\n",
    "from keras.utils.vis_utils import plot_model\n",
    "from tensorflow.keras import layers"
   ]
  },
  {
   "cell_type": "code",
   "execution_count": 51,
   "id": "9a877d2c",
   "metadata": {},
   "outputs": [],
   "source": [
    "normalizer = tf.keras.layers.Normalization(axis=-1)"
   ]
  },
  {
   "cell_type": "code",
   "execution_count": 52,
   "id": "69f9fac2",
   "metadata": {},
   "outputs": [],
   "source": [
    "def build_and_compile_model(norm, loss, optimizer):\n",
    "    model = keras.Sequential([\n",
    "      norm,\n",
    "      layers.Dense(64, activation='relu'), # Consider sigmoid, since the classificaiton is binary\n",
    "      layers.Dense(64, activation='relu'),\n",
    "      layers.Dense(1)\n",
    "  ])\n",
    "\n",
    "    model.compile(loss=loss,\n",
    "                optimizer=optimizer, metrics = [\"accuracy\"])\n",
    "    return model"
   ]
  },
  {
   "cell_type": "code",
   "execution_count": 53,
   "id": "176f18cd",
   "metadata": {},
   "outputs": [],
   "source": [
    "normalizer = tf.keras.layers.Normalization(axis=-1)"
   ]
  },
  {
   "cell_type": "code",
   "execution_count": 54,
   "id": "d44df303",
   "metadata": {},
   "outputs": [],
   "source": [
    "normalizer.adapt(np.array(X_train))"
   ]
  },
  {
   "cell_type": "code",
   "execution_count": 55,
   "id": "43f924b6",
   "metadata": {},
   "outputs": [],
   "source": [
    "callback = tf.keras.callbacks.EarlyStopping(monitor='loss', patience=20, verbose = 1, \\\n",
    "                                            restore_best_weights = True)"
   ]
  },
  {
   "cell_type": "markdown",
   "id": "9718fd43",
   "metadata": {},
   "source": [
    "## SGD Optimizer"
   ]
  },
  {
   "cell_type": "code",
   "execution_count": 56,
   "id": "bc223534",
   "metadata": {},
   "outputs": [
    {
     "name": "stdout",
     "output_type": "stream",
     "text": [
      "Model: \"sequential\"\n",
      "_________________________________________________________________\n",
      " Layer (type)                Output Shape              Param #   \n",
      "=================================================================\n",
      " normalization_1 (Normalizat  (None, 12)               25        \n",
      " ion)                                                            \n",
      "                                                                 \n",
      " dense (Dense)               (None, 64)                832       \n",
      "                                                                 \n",
      " dense_1 (Dense)             (None, 64)                4160      \n",
      "                                                                 \n",
      " dense_2 (Dense)             (None, 1)                 65        \n",
      "                                                                 \n",
      "=================================================================\n",
      "Total params: 5,082\n",
      "Trainable params: 5,057\n",
      "Non-trainable params: 25\n",
      "_________________________________________________________________\n"
     ]
    }
   ],
   "source": [
    "loss = \"binary_crossentropy\"\n",
    "optimizer = tf.keras.optimizers.SGD(learning_rate=0.01, momentum=0.1, nesterov=True)\n",
    "model_sgd = build_and_compile_model(normalizer, loss, optimizer)\n",
    "model_sgd.summary()"
   ]
  },
  {
   "cell_type": "code",
   "execution_count": 57,
   "id": "1457f4e9",
   "metadata": {},
   "outputs": [
    {
     "name": "stdout",
     "output_type": "stream",
     "text": [
      "Epoch 1/750\n",
      "15/15 [==============================] - 1s 4ms/step - loss: 1.8991 - accuracy: 0.6064\n",
      "Epoch 2/750\n",
      "15/15 [==============================] - 0s 3ms/step - loss: 0.5163 - accuracy: 0.7871\n",
      "Epoch 3/750\n",
      "15/15 [==============================] - 0s 3ms/step - loss: 0.5055 - accuracy: 0.8032\n",
      "Epoch 4/750\n",
      "15/15 [==============================] - 0s 3ms/step - loss: 0.5760 - accuracy: 0.8193\n",
      "Epoch 5/750\n",
      "15/15 [==============================] - 0s 3ms/step - loss: 2.5558 - accuracy: 0.7028\n",
      "Epoch 6/750\n",
      "15/15 [==============================] - 0s 4ms/step - loss: 5.9083 - accuracy: 0.5904\n",
      "Epoch 7/750\n",
      "15/15 [==============================] - 0s 3ms/step - loss: 7.0001 - accuracy: 0.5462\n",
      "Epoch 8/750\n",
      "15/15 [==============================] - 0s 3ms/step - loss: 7.0001 - accuracy: 0.5462\n",
      "Epoch 9/750\n",
      "15/15 [==============================] - 0s 3ms/step - loss: 7.0001 - accuracy: 0.5462\n",
      "Epoch 10/750\n",
      "15/15 [==============================] - 0s 3ms/step - loss: 7.0001 - accuracy: 0.5462\n",
      "Epoch 11/750\n",
      "15/15 [==============================] - 0s 3ms/step - loss: 7.0001 - accuracy: 0.5462\n",
      "Epoch 12/750\n",
      "15/15 [==============================] - 0s 4ms/step - loss: 7.0001 - accuracy: 0.5462\n",
      "Epoch 13/750\n",
      "15/15 [==============================] - 0s 4ms/step - loss: 7.0001 - accuracy: 0.5462\n",
      "Epoch 14/750\n",
      "15/15 [==============================] - 0s 3ms/step - loss: 7.0001 - accuracy: 0.5462\n",
      "Epoch 15/750\n",
      "15/15 [==============================] - 0s 4ms/step - loss: 7.0001 - accuracy: 0.5462\n",
      "Epoch 16/750\n",
      "15/15 [==============================] - 0s 4ms/step - loss: 7.0001 - accuracy: 0.5462\n",
      "Epoch 17/750\n",
      "15/15 [==============================] - 0s 4ms/step - loss: 7.0001 - accuracy: 0.5462\n",
      "Epoch 18/750\n",
      "15/15 [==============================] - 0s 4ms/step - loss: 7.0001 - accuracy: 0.5462\n",
      "Epoch 19/750\n",
      "15/15 [==============================] - 0s 4ms/step - loss: 7.0001 - accuracy: 0.5462\n",
      "Epoch 20/750\n",
      "15/15 [==============================] - 0s 3ms/step - loss: 7.0001 - accuracy: 0.5462\n",
      "Epoch 21/750\n",
      "15/15 [==============================] - 0s 3ms/step - loss: 7.0001 - accuracy: 0.5462\n",
      "Epoch 22/750\n",
      "15/15 [==============================] - 0s 3ms/step - loss: 7.0001 - accuracy: 0.5462\n",
      "Epoch 23/750\n",
      "14/15 [===========================>..] - ETA: 0s - loss: 7.1292 - accuracy: 0.5378Restoring model weights from the end of the best epoch: 3.\n",
      "15/15 [==============================] - 0s 7ms/step - loss: 7.0001 - accuracy: 0.5462\n",
      "Epoch 23: early stopping\n"
     ]
    }
   ],
   "source": [
    "history_sgd = model_sgd.fit(X_train, y_train, epochs=750,callbacks=[callback], steps_per_epoch = 15)"
   ]
  },
  {
   "cell_type": "code",
   "execution_count": 58,
   "id": "7b06ec73",
   "metadata": {},
   "outputs": [
    {
     "data": {
      "image/png": "[encoded data removed]",
      "text/plain": [
       "<Figure size 576x360 with 1 Axes>"
      ]
     },
     "metadata": {
      "needs_background": "light"
     },
     "output_type": "display_data"
    }
   ],
   "source": [
    "pd.DataFrame(history_sgd.history).plot(figsize=(8, 5))\n",
    "plt.grid(True)\n",
    "plt.gca()#.set_ylim(0, 1.5)\n",
    "plt.show()"
   ]
  },
  {
   "cell_type": "code",
   "execution_count": 59,
   "id": "cba4ac57",
   "metadata": {},
   "outputs": [
    {
     "name": "stdout",
     "output_type": "stream",
     "text": [
      "3/3 [==============================] - 0s 8ms/step - loss: 0.9456 - accuracy: 0.7976\n"
     ]
    }
   ],
   "source": [
    "X_test_accuracy_sgd = model_sgd.evaluate(X_test, y_test)[1]"
   ]
  },
  {
   "cell_type": "code",
   "execution_count": 60,
   "id": "7c3ce0a2",
   "metadata": {},
   "outputs": [
    {
     "name": "stdout",
     "output_type": "stream",
     "text": [
      "The model accuracy was found to be: 0.7976190447807312\n"
     ]
    }
   ],
   "source": [
    "print(\"The model accuracy was found to be: \" + str(X_test_accuracy_sgd))"
   ]
  },
  {
   "cell_type": "markdown",
   "id": "ff570fff",
   "metadata": {},
   "source": [
    "## Adam Optimizer"
   ]
  },
  {
   "cell_type": "code",
   "execution_count": 61,
   "id": "559a5614",
   "metadata": {},
   "outputs": [
    {
     "name": "stdout",
     "output_type": "stream",
     "text": [
      "Model: \"sequential_1\"\n",
      "_________________________________________________________________\n",
      " Layer (type)                Output Shape              Param #   \n",
      "=================================================================\n",
      " normalization_1 (Normalizat  (None, 12)               25        \n",
      " ion)                                                            \n",
      "                                                                 \n",
      " dense_3 (Dense)             (None, 64)                832       \n",
      "                                                                 \n",
      " dense_4 (Dense)             (None, 64)                4160      \n",
      "                                                                 \n",
      " dense_5 (Dense)             (None, 1)                 65        \n",
      "                                                                 \n",
      "=================================================================\n",
      "Total params: 5,082\n",
      "Trainable params: 5,057\n",
      "Non-trainable params: 25\n",
      "_________________________________________________________________\n"
     ]
    }
   ],
   "source": [
    "loss = \"binary_crossentropy\"\n",
    "optimizer = tf.keras.optimizers.Adam(learning_rate=0.001,beta_1=0.9, beta_2=0.999)\n",
    "model_adam = build_and_compile_model(normalizer, loss, optimizer)\n",
    "model_adam.summary()"
   ]
  },
  {
   "cell_type": "code",
   "execution_count": 62,
   "id": "c2eece3c",
   "metadata": {},
   "outputs": [
    {
     "name": "stdout",
     "output_type": "stream",
     "text": [
      "Epoch 1/750\n",
      "15/15 [==============================] - 1s 4ms/step - loss: 1.8680 - accuracy: 0.6627\n",
      "Epoch 2/750\n",
      "15/15 [==============================] - 0s 3ms/step - loss: 0.6366 - accuracy: 0.7831\n",
      "Epoch 3/750\n",
      "15/15 [==============================] - 0s 3ms/step - loss: 0.5562 - accuracy: 0.8273\n",
      "Epoch 4/750\n",
      "15/15 [==============================] - 0s 6ms/step - loss: 0.5363 - accuracy: 0.8474\n",
      "Epoch 5/750\n",
      "15/15 [==============================] - 0s 3ms/step - loss: 0.5237 - accuracy: 0.8313\n",
      "Epoch 6/750\n",
      "15/15 [==============================] - 0s 3ms/step - loss: 0.5096 - accuracy: 0.8474\n",
      "Epoch 7/750\n",
      "15/15 [==============================] - 0s 4ms/step - loss: 0.5046 - accuracy: 0.8554\n",
      "Epoch 8/750\n",
      "15/15 [==============================] - 0s 4ms/step - loss: 0.4991 - accuracy: 0.8594\n",
      "Epoch 9/750\n",
      "15/15 [==============================] - 0s 3ms/step - loss: 0.4955 - accuracy: 0.8514\n",
      "Epoch 10/750\n",
      "15/15 [==============================] - 0s 3ms/step - loss: 0.4947 - accuracy: 0.8514\n",
      "Epoch 11/750\n",
      "15/15 [==============================] - 0s 2ms/step - loss: 0.4811 - accuracy: 0.8474\n",
      "Epoch 12/750\n",
      "15/15 [==============================] - 0s 3ms/step - loss: 0.4860 - accuracy: 0.8554\n",
      "Epoch 13/750\n",
      "15/15 [==============================] - 0s 3ms/step - loss: 0.5046 - accuracy: 0.8554\n",
      "Epoch 14/750\n",
      "15/15 [==============================] - 0s 3ms/step - loss: 0.4763 - accuracy: 0.8554\n",
      "Epoch 15/750\n",
      "15/15 [==============================] - 0s 3ms/step - loss: 0.4695 - accuracy: 0.8715\n",
      "Epoch 16/750\n",
      "15/15 [==============================] - 0s 3ms/step - loss: 0.4668 - accuracy: 0.8594\n",
      "Epoch 17/750\n",
      "15/15 [==============================] - 0s 3ms/step - loss: 0.4642 - accuracy: 0.8554\n",
      "Epoch 18/750\n",
      "15/15 [==============================] - 0s 3ms/step - loss: 0.4593 - accuracy: 0.8635\n",
      "Epoch 19/750\n",
      "15/15 [==============================] - 0s 3ms/step - loss: 0.4570 - accuracy: 0.8755\n",
      "Epoch 20/750\n",
      "15/15 [==============================] - 0s 3ms/step - loss: 0.4535 - accuracy: 0.8755\n",
      "Epoch 21/750\n",
      "15/15 [==============================] - 0s 3ms/step - loss: 0.4560 - accuracy: 0.8675\n",
      "Epoch 22/750\n",
      "15/15 [==============================] - 0s 4ms/step - loss: 0.4514 - accuracy: 0.8715\n",
      "Epoch 23/750\n",
      "15/15 [==============================] - 0s 4ms/step - loss: 0.4474 - accuracy: 0.8795\n",
      "Epoch 24/750\n",
      "15/15 [==============================] - 0s 3ms/step - loss: 0.4448 - accuracy: 0.8715\n",
      "Epoch 25/750\n",
      "15/15 [==============================] - 0s 3ms/step - loss: 0.4437 - accuracy: 0.8795\n",
      "Epoch 26/750\n",
      "15/15 [==============================] - 0s 3ms/step - loss: 0.4450 - accuracy: 0.8795\n",
      "Epoch 27/750\n",
      "15/15 [==============================] - 0s 3ms/step - loss: 0.4389 - accuracy: 0.8835\n",
      "Epoch 28/750\n",
      "15/15 [==============================] - 0s 4ms/step - loss: 0.4367 - accuracy: 0.8755\n",
      "Epoch 29/750\n",
      "15/15 [==============================] - 0s 5ms/step - loss: 0.4310 - accuracy: 0.8916\n",
      "Epoch 30/750\n",
      "15/15 [==============================] - 0s 3ms/step - loss: 0.4338 - accuracy: 0.8876\n",
      "Epoch 31/750\n",
      "15/15 [==============================] - 0s 6ms/step - loss: 0.4262 - accuracy: 0.8916\n",
      "Epoch 32/750\n",
      "15/15 [==============================] - 0s 3ms/step - loss: 0.4236 - accuracy: 0.8996\n",
      "Epoch 33/750\n",
      "15/15 [==============================] - 0s 2ms/step - loss: 0.4244 - accuracy: 0.8916\n",
      "Epoch 34/750\n",
      "15/15 [==============================] - 0s 2ms/step - loss: 0.4250 - accuracy: 0.8916\n",
      "Epoch 35/750\n",
      "15/15 [==============================] - 0s 2ms/step - loss: 0.4259 - accuracy: 0.8916\n",
      "Epoch 36/750\n",
      "15/15 [==============================] - 0s 2ms/step - loss: 0.4273 - accuracy: 0.8996\n",
      "Epoch 37/750\n",
      "15/15 [==============================] - 0s 3ms/step - loss: 0.4144 - accuracy: 0.9076\n",
      "Epoch 38/750\n",
      "15/15 [==============================] - 0s 3ms/step - loss: 0.4141 - accuracy: 0.9076\n",
      "Epoch 39/750\n",
      "15/15 [==============================] - 0s 3ms/step - loss: 0.4115 - accuracy: 0.8996\n",
      "Epoch 40/750\n",
      "15/15 [==============================] - 0s 3ms/step - loss: 0.4109 - accuracy: 0.9116\n",
      "Epoch 41/750\n",
      "15/15 [==============================] - 0s 3ms/step - loss: 0.4140 - accuracy: 0.8956\n",
      "Epoch 42/750\n",
      "15/15 [==============================] - 0s 3ms/step - loss: 0.4024 - accuracy: 0.9116\n",
      "Epoch 43/750\n",
      "15/15 [==============================] - 0s 3ms/step - loss: 0.4080 - accuracy: 0.9157\n",
      "Epoch 44/750\n",
      "15/15 [==============================] - 0s 3ms/step - loss: 0.4113 - accuracy: 0.9076\n",
      "Epoch 45/750\n",
      "15/15 [==============================] - 0s 3ms/step - loss: 0.4090 - accuracy: 0.9157\n",
      "Epoch 46/750\n",
      "15/15 [==============================] - 0s 3ms/step - loss: 0.4023 - accuracy: 0.9197\n",
      "Epoch 47/750\n",
      "15/15 [==============================] - 0s 3ms/step - loss: 0.3994 - accuracy: 0.9157\n",
      "Epoch 48/750\n",
      "15/15 [==============================] - 0s 3ms/step - loss: 0.3925 - accuracy: 0.9277\n",
      "Epoch 49/750\n",
      "15/15 [==============================] - 0s 3ms/step - loss: 0.3903 - accuracy: 0.9197\n",
      "Epoch 50/750\n",
      "15/15 [==============================] - 0s 3ms/step - loss: 0.3856 - accuracy: 0.9197\n",
      "Epoch 51/750\n",
      "15/15 [==============================] - 0s 3ms/step - loss: 0.3835 - accuracy: 0.9157\n",
      "Epoch 52/750\n",
      "15/15 [==============================] - 0s 3ms/step - loss: 0.3848 - accuracy: 0.9197\n",
      "Epoch 53/750\n",
      "15/15 [==============================] - 0s 3ms/step - loss: 0.3849 - accuracy: 0.9197\n",
      "Epoch 54/750\n",
      "15/15 [==============================] - 0s 3ms/step - loss: 0.3794 - accuracy: 0.9197\n",
      "Epoch 55/750\n",
      "15/15 [==============================] - 0s 3ms/step - loss: 0.3754 - accuracy: 0.9237\n",
      "Epoch 56/750\n",
      "15/15 [==============================] - 0s 2ms/step - loss: 0.3776 - accuracy: 0.9237\n",
      "Epoch 57/750\n",
      "15/15 [==============================] - 0s 2ms/step - loss: 0.3784 - accuracy: 0.9237\n",
      "Epoch 58/750\n",
      "15/15 [==============================] - 0s 3ms/step - loss: 0.3813 - accuracy: 0.9237\n",
      "Epoch 59/750\n",
      "15/15 [==============================] - 0s 2ms/step - loss: 0.3742 - accuracy: 0.9076\n",
      "Epoch 60/750\n",
      "15/15 [==============================] - 0s 3ms/step - loss: 0.3732 - accuracy: 0.9237\n",
      "Epoch 61/750\n",
      "15/15 [==============================] - 0s 2ms/step - loss: 0.3679 - accuracy: 0.9357\n",
      "Epoch 62/750\n",
      "15/15 [==============================] - 0s 5ms/step - loss: 0.3684 - accuracy: 0.9277\n",
      "Epoch 63/750\n",
      "15/15 [==============================] - 0s 3ms/step - loss: 0.3645 - accuracy: 0.9398\n",
      "Epoch 64/750\n",
      "15/15 [==============================] - 0s 2ms/step - loss: 0.3618 - accuracy: 0.9237\n",
      "Epoch 65/750\n",
      "15/15 [==============================] - 0s 3ms/step - loss: 0.3607 - accuracy: 0.9277\n",
      "Epoch 66/750\n",
      "15/15 [==============================] - 0s 3ms/step - loss: 0.3607 - accuracy: 0.9357\n",
      "Epoch 67/750\n",
      "15/15 [==============================] - 0s 2ms/step - loss: 0.3618 - accuracy: 0.9237\n",
      "Epoch 68/750\n",
      "15/15 [==============================] - 0s 2ms/step - loss: 0.3546 - accuracy: 0.9317\n",
      "Epoch 69/750\n",
      "15/15 [==============================] - 0s 3ms/step - loss: 0.3484 - accuracy: 0.9398\n",
      "Epoch 70/750\n",
      "15/15 [==============================] - 0s 2ms/step - loss: 0.3491 - accuracy: 0.9438\n",
      "Epoch 71/750\n",
      "15/15 [==============================] - 0s 2ms/step - loss: 0.3495 - accuracy: 0.9357\n",
      "Epoch 72/750\n",
      "15/15 [==============================] - 0s 3ms/step - loss: 0.3458 - accuracy: 0.9357\n",
      "Epoch 73/750\n",
      "15/15 [==============================] - 0s 2ms/step - loss: 0.3444 - accuracy: 0.9357\n",
      "Epoch 74/750\n",
      "15/15 [==============================] - 0s 3ms/step - loss: 0.3418 - accuracy: 0.9438\n",
      "Epoch 75/750\n",
      "15/15 [==============================] - 0s 3ms/step - loss: 0.3399 - accuracy: 0.9518\n",
      "Epoch 76/750\n",
      "15/15 [==============================] - 0s 3ms/step - loss: 0.3380 - accuracy: 0.9478\n",
      "Epoch 77/750\n",
      "15/15 [==============================] - 0s 2ms/step - loss: 0.3394 - accuracy: 0.9558\n",
      "Epoch 78/750\n",
      "15/15 [==============================] - 0s 2ms/step - loss: 0.3357 - accuracy: 0.9478\n",
      "Epoch 79/750\n",
      "15/15 [==============================] - 0s 3ms/step - loss: 0.3308 - accuracy: 0.9558\n",
      "Epoch 80/750\n",
      "15/15 [==============================] - 0s 2ms/step - loss: 0.3326 - accuracy: 0.9438\n",
      "Epoch 81/750\n",
      "15/15 [==============================] - 0s 2ms/step - loss: 0.3366 - accuracy: 0.9398\n",
      "Epoch 82/750\n",
      "15/15 [==============================] - 0s 2ms/step - loss: 0.3288 - accuracy: 0.9558\n",
      "Epoch 83/750\n",
      "15/15 [==============================] - 0s 3ms/step - loss: 0.3288 - accuracy: 0.9598\n",
      "Epoch 84/750\n",
      "15/15 [==============================] - 0s 2ms/step - loss: 0.3267 - accuracy: 0.9478\n",
      "Epoch 85/750\n",
      "15/15 [==============================] - 0s 2ms/step - loss: 0.3248 - accuracy: 0.9558\n",
      "Epoch 86/750\n",
      "15/15 [==============================] - 0s 2ms/step - loss: 0.3233 - accuracy: 0.9518\n",
      "Epoch 87/750\n",
      "15/15 [==============================] - 0s 2ms/step - loss: 0.3229 - accuracy: 0.9558\n",
      "Epoch 88/750\n",
      "15/15 [==============================] - 0s 2ms/step - loss: 0.3221 - accuracy: 0.9478\n",
      "Epoch 89/750\n",
      "15/15 [==============================] - 0s 2ms/step - loss: 0.3207 - accuracy: 0.9518\n",
      "Epoch 90/750\n",
      "15/15 [==============================] - 0s 2ms/step - loss: 0.3191 - accuracy: 0.9639\n",
      "Epoch 91/750\n",
      "15/15 [==============================] - 0s 3ms/step - loss: 0.3197 - accuracy: 0.9478\n",
      "Epoch 92/750\n",
      "15/15 [==============================] - 0s 2ms/step - loss: 0.3159 - accuracy: 0.9639\n",
      "Epoch 93/750\n",
      "15/15 [==============================] - 0s 2ms/step - loss: 0.3127 - accuracy: 0.9639\n",
      "Epoch 94/750\n",
      "15/15 [==============================] - 0s 2ms/step - loss: 0.3146 - accuracy: 0.9679\n",
      "Epoch 95/750\n",
      "15/15 [==============================] - 0s 2ms/step - loss: 0.3149 - accuracy: 0.9719\n",
      "Epoch 96/750\n",
      "15/15 [==============================] - 0s 3ms/step - loss: 0.3083 - accuracy: 0.9719\n",
      "Epoch 97/750\n",
      "15/15 [==============================] - 0s 2ms/step - loss: 0.3093 - accuracy: 0.9679\n",
      "Epoch 98/750\n",
      "15/15 [==============================] - 0s 2ms/step - loss: 0.3114 - accuracy: 0.9639\n",
      "Epoch 99/750\n",
      "15/15 [==============================] - 0s 2ms/step - loss: 0.3084 - accuracy: 0.9518\n",
      "Epoch 100/750\n",
      "15/15 [==============================] - 0s 2ms/step - loss: 0.3063 - accuracy: 0.9679\n",
      "Epoch 101/750\n",
      "15/15 [==============================] - 0s 3ms/step - loss: 0.3065 - accuracy: 0.9639\n",
      "Epoch 102/750\n",
      "15/15 [==============================] - 0s 3ms/step - loss: 0.3086 - accuracy: 0.9639\n",
      "Epoch 103/750\n",
      "15/15 [==============================] - 0s 3ms/step - loss: 0.3044 - accuracy: 0.9679\n",
      "Epoch 104/750\n",
      "15/15 [==============================] - 0s 2ms/step - loss: 0.3051 - accuracy: 0.9679\n",
      "Epoch 105/750\n",
      "15/15 [==============================] - 0s 2ms/step - loss: 0.3071 - accuracy: 0.9639\n",
      "Epoch 106/750\n",
      "15/15 [==============================] - 0s 2ms/step - loss: 0.3057 - accuracy: 0.9679\n",
      "Epoch 107/750\n",
      "15/15 [==============================] - 0s 2ms/step - loss: 0.3119 - accuracy: 0.9679\n",
      "Epoch 108/750\n",
      "15/15 [==============================] - 0s 2ms/step - loss: 0.3012 - accuracy: 0.9679\n",
      "Epoch 109/750\n",
      "15/15 [==============================] - 0s 2ms/step - loss: 0.3019 - accuracy: 0.9598\n",
      "Epoch 110/750\n",
      "15/15 [==============================] - 0s 2ms/step - loss: 0.3063 - accuracy: 0.9639\n",
      "Epoch 111/750\n",
      "15/15 [==============================] - 0s 3ms/step - loss: 0.3010 - accuracy: 0.9719\n",
      "Epoch 112/750\n",
      "15/15 [==============================] - 0s 2ms/step - loss: 0.2996 - accuracy: 0.9719\n",
      "Epoch 113/750\n",
      "15/15 [==============================] - 0s 3ms/step - loss: 0.2974 - accuracy: 0.9679\n",
      "Epoch 114/750\n",
      "15/15 [==============================] - 0s 2ms/step - loss: 0.2943 - accuracy: 0.9719\n",
      "Epoch 115/750\n",
      "15/15 [==============================] - 0s 2ms/step - loss: 0.2960 - accuracy: 0.9759\n",
      "Epoch 116/750\n",
      "15/15 [==============================] - 0s 3ms/step - loss: 0.2958 - accuracy: 0.9719\n",
      "Epoch 117/750\n",
      "15/15 [==============================] - 0s 2ms/step - loss: 0.2941 - accuracy: 0.9719\n",
      "Epoch 118/750\n",
      "15/15 [==============================] - 0s 3ms/step - loss: 0.2897 - accuracy: 0.9719\n",
      "Epoch 119/750\n",
      "15/15 [==============================] - 0s 2ms/step - loss: 0.2873 - accuracy: 0.9759\n",
      "Epoch 120/750\n",
      "15/15 [==============================] - 0s 2ms/step - loss: 0.2896 - accuracy: 0.9759\n",
      "Epoch 121/750\n",
      "15/15 [==============================] - 0s 2ms/step - loss: 0.2930 - accuracy: 0.9719\n",
      "Epoch 122/750\n",
      "15/15 [==============================] - 0s 2ms/step - loss: 0.2878 - accuracy: 0.9719\n",
      "Epoch 123/750\n",
      "15/15 [==============================] - 0s 2ms/step - loss: 0.2882 - accuracy: 0.9759\n",
      "Epoch 124/750\n",
      "15/15 [==============================] - 0s 2ms/step - loss: 0.2885 - accuracy: 0.9719\n",
      "Epoch 125/750\n",
      "15/15 [==============================] - 0s 2ms/step - loss: 0.2867 - accuracy: 0.9719\n",
      "Epoch 126/750\n",
      "15/15 [==============================] - 0s 2ms/step - loss: 0.2872 - accuracy: 0.9719\n",
      "Epoch 127/750\n",
      "15/15 [==============================] - 0s 2ms/step - loss: 0.2873 - accuracy: 0.9759\n",
      "Epoch 128/750\n",
      "15/15 [==============================] - 0s 3ms/step - loss: 0.2862 - accuracy: 0.9799\n",
      "Epoch 129/750\n",
      "15/15 [==============================] - 0s 3ms/step - loss: 0.2879 - accuracy: 0.9759\n",
      "Epoch 130/750\n",
      "15/15 [==============================] - 0s 3ms/step - loss: 0.2855 - accuracy: 0.9759\n",
      "Epoch 131/750\n",
      "15/15 [==============================] - 0s 2ms/step - loss: 0.2831 - accuracy: 0.9759\n",
      "Epoch 132/750\n",
      "15/15 [==============================] - 0s 3ms/step - loss: 0.2827 - accuracy: 0.9839\n",
      "Epoch 133/750\n",
      "15/15 [==============================] - 0s 2ms/step - loss: 0.2886 - accuracy: 0.9679\n",
      "Epoch 134/750\n",
      "15/15 [==============================] - 0s 3ms/step - loss: 0.2800 - accuracy: 0.9799\n",
      "Epoch 135/750\n",
      "15/15 [==============================] - 0s 3ms/step - loss: 0.2893 - accuracy: 0.9679\n",
      "Epoch 136/750\n",
      "15/15 [==============================] - 0s 5ms/step - loss: 0.2827 - accuracy: 0.9799\n",
      "Epoch 137/750\n",
      "15/15 [==============================] - 0s 3ms/step - loss: 0.2831 - accuracy: 0.9759\n",
      "Epoch 138/750\n",
      "15/15 [==============================] - 0s 3ms/step - loss: 0.2795 - accuracy: 0.9799\n",
      "Epoch 139/750\n",
      "15/15 [==============================] - 0s 2ms/step - loss: 0.2788 - accuracy: 0.9799\n",
      "Epoch 140/750\n",
      "15/15 [==============================] - 0s 2ms/step - loss: 0.2887 - accuracy: 0.9679\n",
      "Epoch 141/750\n",
      "15/15 [==============================] - 0s 2ms/step - loss: 0.2905 - accuracy: 0.9719\n",
      "Epoch 142/750\n",
      "15/15 [==============================] - 0s 2ms/step - loss: 0.3459 - accuracy: 0.9719\n",
      "Epoch 143/750\n",
      "15/15 [==============================] - 0s 2ms/step - loss: 0.3411 - accuracy: 0.9759\n",
      "Epoch 144/750\n",
      "15/15 [==============================] - 0s 2ms/step - loss: 0.2823 - accuracy: 0.9719\n",
      "Epoch 145/750\n",
      "15/15 [==============================] - 0s 2ms/step - loss: 0.2929 - accuracy: 0.9679\n",
      "Epoch 146/750\n",
      "15/15 [==============================] - 0s 2ms/step - loss: 0.2732 - accuracy: 0.9759\n",
      "Epoch 147/750\n",
      "15/15 [==============================] - 0s 2ms/step - loss: 0.2733 - accuracy: 0.9799\n",
      "Epoch 148/750\n",
      "15/15 [==============================] - 0s 2ms/step - loss: 0.2740 - accuracy: 0.9799\n",
      "Epoch 149/750\n",
      "15/15 [==============================] - 0s 2ms/step - loss: 0.2731 - accuracy: 0.9799\n",
      "Epoch 150/750\n",
      "15/15 [==============================] - 0s 2ms/step - loss: 0.2721 - accuracy: 0.9759\n",
      "Epoch 151/750\n",
      "15/15 [==============================] - 0s 2ms/step - loss: 0.2738 - accuracy: 0.9799\n",
      "Epoch 152/750\n",
      "15/15 [==============================] - 0s 2ms/step - loss: 0.2750 - accuracy: 0.9719\n",
      "Epoch 153/750\n",
      "15/15 [==============================] - 0s 2ms/step - loss: 0.2742 - accuracy: 0.9799\n",
      "Epoch 154/750\n",
      "15/15 [==============================] - 0s 3ms/step - loss: 0.2668 - accuracy: 0.9839\n",
      "Epoch 155/750\n",
      "15/15 [==============================] - 0s 3ms/step - loss: 0.2699 - accuracy: 0.9799\n",
      "Epoch 156/750\n",
      "15/15 [==============================] - 0s 3ms/step - loss: 0.2707 - accuracy: 0.9799\n",
      "Epoch 157/750\n",
      "15/15 [==============================] - 0s 2ms/step - loss: 0.2757 - accuracy: 0.9719\n",
      "Epoch 158/750\n",
      "15/15 [==============================] - 0s 2ms/step - loss: 0.2727 - accuracy: 0.9759\n",
      "Epoch 159/750\n",
      "15/15 [==============================] - 0s 3ms/step - loss: 0.2758 - accuracy: 0.9759\n",
      "Epoch 160/750\n",
      "15/15 [==============================] - 0s 2ms/step - loss: 0.2717 - accuracy: 0.9799\n",
      "Epoch 161/750\n",
      "15/15 [==============================] - 0s 2ms/step - loss: 0.2680 - accuracy: 0.9799\n",
      "Epoch 162/750\n",
      "15/15 [==============================] - 0s 2ms/step - loss: 0.2697 - accuracy: 0.9799\n",
      "Epoch 163/750\n",
      "15/15 [==============================] - 0s 3ms/step - loss: 0.2683 - accuracy: 0.9799\n",
      "Epoch 164/750\n",
      "15/15 [==============================] - 0s 2ms/step - loss: 0.2801 - accuracy: 0.9759\n",
      "Epoch 165/750\n",
      "15/15 [==============================] - 0s 2ms/step - loss: 0.2700 - accuracy: 0.9719\n",
      "Epoch 166/750\n",
      "15/15 [==============================] - 0s 2ms/step - loss: 0.2681 - accuracy: 0.9799\n",
      "Epoch 167/750\n",
      "15/15 [==============================] - 0s 2ms/step - loss: 0.2712 - accuracy: 0.9799\n",
      "Epoch 168/750\n",
      "15/15 [==============================] - 0s 2ms/step - loss: 0.2646 - accuracy: 0.9799\n",
      "Epoch 169/750\n",
      "15/15 [==============================] - 0s 2ms/step - loss: 0.2641 - accuracy: 0.9799\n",
      "Epoch 170/750\n",
      "15/15 [==============================] - 0s 2ms/step - loss: 0.2674 - accuracy: 0.9799\n",
      "Epoch 171/750\n",
      "15/15 [==============================] - 0s 2ms/step - loss: 0.2711 - accuracy: 0.9759\n",
      "Epoch 172/750\n",
      "15/15 [==============================] - 0s 2ms/step - loss: 0.2702 - accuracy: 0.9799\n",
      "Epoch 173/750\n",
      "15/15 [==============================] - 0s 2ms/step - loss: 0.2670 - accuracy: 0.9799\n",
      "Epoch 174/750\n",
      "15/15 [==============================] - 0s 2ms/step - loss: 0.2632 - accuracy: 0.9799\n",
      "Epoch 175/750\n",
      "15/15 [==============================] - 0s 2ms/step - loss: 0.2641 - accuracy: 0.9799\n",
      "Epoch 176/750\n",
      "15/15 [==============================] - 0s 2ms/step - loss: 0.2625 - accuracy: 0.9799\n",
      "Epoch 177/750\n",
      "15/15 [==============================] - 0s 3ms/step - loss: 0.2668 - accuracy: 0.9799\n",
      "Epoch 178/750\n",
      "15/15 [==============================] - 0s 2ms/step - loss: 0.2723 - accuracy: 0.9799\n",
      "Epoch 179/750\n",
      "15/15 [==============================] - 0s 2ms/step - loss: 0.3452 - accuracy: 0.9598\n",
      "Epoch 180/750\n",
      "15/15 [==============================] - 0s 2ms/step - loss: 0.3755 - accuracy: 0.9598\n",
      "Epoch 181/750\n",
      "15/15 [==============================] - 0s 2ms/step - loss: 1.0597 - accuracy: 0.8956\n",
      "Epoch 182/750\n",
      "15/15 [==============================] - 0s 3ms/step - loss: 0.7661 - accuracy: 0.8996\n",
      "Epoch 183/750\n",
      "15/15 [==============================] - 0s 3ms/step - loss: 0.7392 - accuracy: 0.9277\n",
      "Epoch 184/750\n",
      "15/15 [==============================] - 0s 2ms/step - loss: 0.7437 - accuracy: 0.9317\n",
      "Epoch 185/750\n",
      "15/15 [==============================] - 0s 3ms/step - loss: 0.6643 - accuracy: 0.9478\n",
      "Epoch 186/750\n",
      "15/15 [==============================] - 0s 2ms/step - loss: 0.5881 - accuracy: 0.9518\n",
      "Epoch 187/750\n",
      "15/15 [==============================] - 0s 2ms/step - loss: 0.5805 - accuracy: 0.9598\n",
      "Epoch 188/750\n",
      "15/15 [==============================] - 0s 2ms/step - loss: 0.5752 - accuracy: 0.9558\n",
      "Epoch 189/750\n",
      "15/15 [==============================] - 0s 3ms/step - loss: 0.5762 - accuracy: 0.9598\n",
      "Epoch 190/750\n",
      "15/15 [==============================] - 0s 2ms/step - loss: 0.5768 - accuracy: 0.9518\n",
      "Epoch 191/750\n",
      "15/15 [==============================] - 0s 2ms/step - loss: 0.6368 - accuracy: 0.9558\n",
      "Epoch 192/750\n",
      "15/15 [==============================] - 0s 2ms/step - loss: 0.6317 - accuracy: 0.9558\n",
      "Epoch 193/750\n",
      "15/15 [==============================] - 0s 2ms/step - loss: 0.6308 - accuracy: 0.9518\n",
      "Epoch 194/750\n",
      "15/15 [==============================] - 0s 2ms/step - loss: 0.6322 - accuracy: 0.9518\n",
      "Epoch 195/750\n",
      "15/15 [==============================] - 0s 2ms/step - loss: 0.6298 - accuracy: 0.9558\n",
      "Epoch 196/750\n",
      " 1/15 [=>............................] - ETA: 0s - loss: 0.0095 - accuracy: 1.0000Restoring model weights from the end of the best epoch: 176.\n",
      "15/15 [==============================] - 0s 3ms/step - loss: 0.6285 - accuracy: 0.9598\n",
      "Epoch 196: early stopping\n"
     ]
    }
   ],
   "source": [
    "history_adam = model_adam.fit(X_train, y_train, epochs=750,callbacks=[callback],steps_per_epoch = 15)"
   ]
  },
  {
   "cell_type": "code",
   "execution_count": 63,
   "id": "3d1fe042",
   "metadata": {},
   "outputs": [
    {
     "data": {
      "image/png": "[encoded data removed]",
      "text/plain": [
       "<Figure size 576x360 with 1 Axes>"
      ]
     },
     "metadata": {
      "needs_background": "light"
     },
     "output_type": "display_data"
    }
   ],
   "source": [
    "pd.DataFrame(history_adam.history).plot(figsize=(8, 5))\n",
    "plt.grid(True)\n",
    "plt.gca()#.set_ylim(0, 1.5)\n",
    "plt.show()"
   ]
  },
  {
   "cell_type": "code",
   "execution_count": 64,
   "id": "63408dda",
   "metadata": {},
   "outputs": [
    {
     "name": "stdout",
     "output_type": "stream",
     "text": [
      "3/3 [==============================] - 0s 4ms/step - loss: 2.8080 - accuracy: 0.7976\n"
     ]
    }
   ],
   "source": [
    "X_test_accuracy_adam = model_adam.evaluate(X_test, y_test)[1]"
   ]
  },
  {
   "cell_type": "code",
   "execution_count": 65,
   "id": "df092ff0",
   "metadata": {},
   "outputs": [
    {
     "name": "stdout",
     "output_type": "stream",
     "text": [
      "The model accuracy was found to be: 0.7976190447807312\n"
     ]
    }
   ],
   "source": [
    "print(\"The model accuracy was found to be: \" + str(X_test_accuracy_adam))"
   ]
  },
  {
   "cell_type": "markdown",
   "id": "6e5c57a1",
   "metadata": {},
   "source": [
    "## RMSProp Optimizer"
   ]
  },
  {
   "cell_type": "code",
   "execution_count": 66,
   "id": "0e3c8053",
   "metadata": {},
   "outputs": [
    {
     "name": "stdout",
     "output_type": "stream",
     "text": [
      "Model: \"sequential_2\"\n",
      "_________________________________________________________________\n",
      " Layer (type)                Output Shape              Param #   \n",
      "=================================================================\n",
      " normalization_1 (Normalizat  (None, 12)               25        \n",
      " ion)                                                            \n",
      "                                                                 \n",
      " dense_6 (Dense)             (None, 64)                832       \n",
      "                                                                 \n",
      " dense_7 (Dense)             (None, 64)                4160      \n",
      "                                                                 \n",
      " dense_8 (Dense)             (None, 1)                 65        \n",
      "                                                                 \n",
      "=================================================================\n",
      "Total params: 5,082\n",
      "Trainable params: 5,057\n",
      "Non-trainable params: 25\n",
      "_________________________________________________________________\n"
     ]
    }
   ],
   "source": [
    "optimizer = tf.keras.optimizers.RMSprop(learning_rate=0.001, rho=.9, momentum=.01)\n",
    "loss = \"binary_crossentropy\"\n",
    "model_rmsprop = build_and_compile_model(normalizer, loss, optimizer)\n",
    "model_rmsprop.summary()"
   ]
  },
  {
   "cell_type": "code",
   "execution_count": 67,
   "id": "7e12c927",
   "metadata": {},
   "outputs": [
    {
     "name": "stdout",
     "output_type": "stream",
     "text": [
      "Epoch 1/750\n",
      "15/15 [==============================] - 1s 3ms/step - loss: 6.5461 - accuracy: 0.5422\n",
      "Epoch 2/750\n",
      "15/15 [==============================] - 0s 2ms/step - loss: 3.7164 - accuracy: 0.5944\n",
      "Epoch 3/750\n",
      "15/15 [==============================] - 0s 3ms/step - loss: 1.0279 - accuracy: 0.7390\n",
      "Epoch 4/750\n",
      "15/15 [==============================] - 0s 3ms/step - loss: 0.4600 - accuracy: 0.7831\n",
      "Epoch 5/750\n",
      "15/15 [==============================] - 0s 3ms/step - loss: 0.4316 - accuracy: 0.7912\n",
      "Epoch 6/750\n",
      "15/15 [==============================] - 0s 2ms/step - loss: 0.4093 - accuracy: 0.8032\n",
      "Epoch 7/750\n",
      "15/15 [==============================] - 0s 3ms/step - loss: 0.3969 - accuracy: 0.8313\n",
      "Epoch 8/750\n",
      "15/15 [==============================] - 0s 3ms/step - loss: 0.4413 - accuracy: 0.8434\n",
      "Epoch 9/750\n",
      "15/15 [==============================] - 0s 2ms/step - loss: 0.4188 - accuracy: 0.8514\n",
      "Epoch 10/750\n",
      "15/15 [==============================] - 0s 3ms/step - loss: 0.3702 - accuracy: 0.8273\n",
      "Epoch 11/750\n",
      "15/15 [==============================] - 0s 3ms/step - loss: 0.3584 - accuracy: 0.8554\n",
      "Epoch 12/750\n",
      "15/15 [==============================] - 0s 2ms/step - loss: 0.3569 - accuracy: 0.8514\n",
      "Epoch 13/750\n",
      "15/15 [==============================] - 0s 2ms/step - loss: 0.4043 - accuracy: 0.8795\n",
      "Epoch 14/750\n",
      "15/15 [==============================] - 0s 2ms/step - loss: 0.4545 - accuracy: 0.8675\n",
      "Epoch 15/750\n",
      "15/15 [==============================] - 0s 2ms/step - loss: 0.3933 - accuracy: 0.8755\n",
      "Epoch 16/750\n",
      "15/15 [==============================] - 0s 2ms/step - loss: 0.3820 - accuracy: 0.8675\n",
      "Epoch 17/750\n",
      "15/15 [==============================] - 0s 2ms/step - loss: 0.3837 - accuracy: 0.8715\n",
      "Epoch 18/750\n",
      "15/15 [==============================] - 0s 2ms/step - loss: 0.3806 - accuracy: 0.8675\n",
      "Epoch 19/750\n",
      "15/15 [==============================] - 0s 2ms/step - loss: 0.4333 - accuracy: 0.8755\n",
      "Epoch 20/750\n",
      "15/15 [==============================] - 0s 2ms/step - loss: 0.3640 - accuracy: 0.8795\n",
      "Epoch 21/750\n",
      "15/15 [==============================] - 0s 2ms/step - loss: 0.3582 - accuracy: 0.8755\n",
      "Epoch 22/750\n",
      "15/15 [==============================] - 0s 2ms/step - loss: 0.3665 - accuracy: 0.8795\n",
      "Epoch 23/750\n",
      "15/15 [==============================] - 0s 3ms/step - loss: 0.3524 - accuracy: 0.8795\n",
      "Epoch 24/750\n",
      "15/15 [==============================] - 0s 2ms/step - loss: 0.3487 - accuracy: 0.8876\n",
      "Epoch 25/750\n",
      "15/15 [==============================] - 0s 2ms/step - loss: 0.3412 - accuracy: 0.8956\n",
      "Epoch 26/750\n",
      "15/15 [==============================] - 0s 2ms/step - loss: 0.3462 - accuracy: 0.8755\n",
      "Epoch 27/750\n",
      "15/15 [==============================] - 0s 3ms/step - loss: 0.3412 - accuracy: 0.8795\n",
      "Epoch 28/750\n",
      "15/15 [==============================] - 0s 3ms/step - loss: 0.3364 - accuracy: 0.8795\n",
      "Epoch 29/750\n",
      "15/15 [==============================] - 0s 3ms/step - loss: 0.3454 - accuracy: 0.8755\n",
      "Epoch 30/750\n",
      "15/15 [==============================] - 0s 3ms/step - loss: 0.3750 - accuracy: 0.8916\n",
      "Epoch 31/750\n",
      "15/15 [==============================] - 0s 3ms/step - loss: 0.3326 - accuracy: 0.8996\n",
      "Epoch 32/750\n",
      "15/15 [==============================] - 0s 3ms/step - loss: 0.3264 - accuracy: 0.8876\n",
      "Epoch 33/750\n",
      "15/15 [==============================] - 0s 2ms/step - loss: 0.3309 - accuracy: 0.8916\n",
      "Epoch 34/750\n",
      "15/15 [==============================] - 0s 2ms/step - loss: 0.3336 - accuracy: 0.8956\n",
      "Epoch 35/750\n",
      "15/15 [==============================] - 0s 3ms/step - loss: 0.3110 - accuracy: 0.8996\n",
      "Epoch 36/750\n",
      "15/15 [==============================] - 0s 2ms/step - loss: 0.3738 - accuracy: 0.8956\n",
      "Epoch 37/750\n",
      "15/15 [==============================] - 0s 3ms/step - loss: 0.3190 - accuracy: 0.8916\n",
      "Epoch 38/750\n",
      "15/15 [==============================] - 0s 3ms/step - loss: 0.3133 - accuracy: 0.8996\n",
      "Epoch 39/750\n",
      "15/15 [==============================] - 0s 2ms/step - loss: 0.3161 - accuracy: 0.8876\n",
      "Epoch 40/750\n",
      "15/15 [==============================] - 0s 3ms/step - loss: 0.3051 - accuracy: 0.8956\n",
      "Epoch 41/750\n",
      "15/15 [==============================] - 0s 3ms/step - loss: 0.3070 - accuracy: 0.8956\n",
      "Epoch 42/750\n",
      "15/15 [==============================] - 0s 3ms/step - loss: 0.2950 - accuracy: 0.8996\n",
      "Epoch 43/750\n",
      "15/15 [==============================] - 0s 3ms/step - loss: 0.2912 - accuracy: 0.9116\n",
      "Epoch 44/750\n",
      "15/15 [==============================] - 0s 2ms/step - loss: 0.3468 - accuracy: 0.8996\n",
      "Epoch 45/750\n",
      "15/15 [==============================] - 0s 2ms/step - loss: 0.2935 - accuracy: 0.9157\n",
      "Epoch 46/750\n",
      "15/15 [==============================] - 0s 3ms/step - loss: 0.2855 - accuracy: 0.9157\n",
      "Epoch 47/750\n",
      "15/15 [==============================] - 0s 3ms/step - loss: 0.2902 - accuracy: 0.9116\n",
      "Epoch 48/750\n",
      "15/15 [==============================] - 0s 2ms/step - loss: 0.2882 - accuracy: 0.9036\n",
      "Epoch 49/750\n",
      "15/15 [==============================] - 0s 3ms/step - loss: 0.2783 - accuracy: 0.9157\n",
      "Epoch 50/750\n",
      "15/15 [==============================] - 0s 3ms/step - loss: 0.2916 - accuracy: 0.9116\n",
      "Epoch 51/750\n",
      "15/15 [==============================] - 0s 4ms/step - loss: 0.2770 - accuracy: 0.9157\n",
      "Epoch 52/750\n",
      "15/15 [==============================] - 0s 3ms/step - loss: 0.2777 - accuracy: 0.9076\n",
      "Epoch 53/750\n",
      "15/15 [==============================] - 0s 3ms/step - loss: 0.2785 - accuracy: 0.9116\n",
      "Epoch 54/750\n",
      "15/15 [==============================] - 0s 3ms/step - loss: 0.2692 - accuracy: 0.9237\n",
      "Epoch 55/750\n",
      "15/15 [==============================] - 0s 2ms/step - loss: 0.2723 - accuracy: 0.9317\n",
      "Epoch 56/750\n",
      "15/15 [==============================] - 0s 2ms/step - loss: 0.2734 - accuracy: 0.9237\n",
      "Epoch 57/750\n",
      "15/15 [==============================] - 0s 2ms/step - loss: 0.2612 - accuracy: 0.9197\n",
      "Epoch 58/750\n",
      "15/15 [==============================] - 0s 2ms/step - loss: 0.2660 - accuracy: 0.9237\n",
      "Epoch 59/750\n",
      "15/15 [==============================] - 0s 2ms/step - loss: 0.2634 - accuracy: 0.9357\n",
      "Epoch 60/750\n",
      "15/15 [==============================] - 0s 2ms/step - loss: 0.2688 - accuracy: 0.9237\n",
      "Epoch 61/750\n",
      "15/15 [==============================] - 0s 2ms/step - loss: 0.2628 - accuracy: 0.9197\n",
      "Epoch 62/750\n",
      "15/15 [==============================] - 0s 3ms/step - loss: 0.2566 - accuracy: 0.9317\n",
      "Epoch 63/750\n",
      "15/15 [==============================] - 0s 2ms/step - loss: 0.2534 - accuracy: 0.9317\n",
      "Epoch 64/750\n",
      "15/15 [==============================] - 0s 2ms/step - loss: 0.2507 - accuracy: 0.9157\n",
      "Epoch 65/750\n",
      "15/15 [==============================] - 0s 2ms/step - loss: 0.2583 - accuracy: 0.9197\n",
      "Epoch 66/750\n",
      "15/15 [==============================] - 0s 2ms/step - loss: 0.2492 - accuracy: 0.9438\n",
      "Epoch 67/750\n",
      "15/15 [==============================] - 0s 2ms/step - loss: 0.2486 - accuracy: 0.9277\n",
      "Epoch 68/750\n",
      "15/15 [==============================] - 0s 2ms/step - loss: 0.2540 - accuracy: 0.9237\n",
      "Epoch 69/750\n",
      "15/15 [==============================] - 0s 2ms/step - loss: 0.3022 - accuracy: 0.9317\n",
      "Epoch 70/750\n",
      "15/15 [==============================] - 0s 2ms/step - loss: 0.2402 - accuracy: 0.9357\n",
      "Epoch 71/750\n",
      "15/15 [==============================] - 0s 2ms/step - loss: 0.2412 - accuracy: 0.9478\n",
      "Epoch 72/750\n",
      "15/15 [==============================] - 0s 2ms/step - loss: 0.2419 - accuracy: 0.9317\n",
      "Epoch 73/750\n",
      "15/15 [==============================] - 0s 3ms/step - loss: 0.2438 - accuracy: 0.9398\n",
      "Epoch 74/750\n",
      "15/15 [==============================] - 0s 3ms/step - loss: 0.2380 - accuracy: 0.9398\n",
      "Epoch 75/750\n",
      "15/15 [==============================] - 0s 2ms/step - loss: 0.2387 - accuracy: 0.9357\n",
      "Epoch 76/750\n",
      "15/15 [==============================] - 0s 2ms/step - loss: 0.2383 - accuracy: 0.9438\n",
      "Epoch 77/750\n",
      "15/15 [==============================] - 0s 2ms/step - loss: 0.2350 - accuracy: 0.9317\n",
      "Epoch 78/750\n",
      "15/15 [==============================] - 0s 2ms/step - loss: 0.2337 - accuracy: 0.9438\n",
      "Epoch 79/750\n",
      "15/15 [==============================] - 0s 2ms/step - loss: 0.2300 - accuracy: 0.9518\n",
      "Epoch 80/750\n",
      "15/15 [==============================] - 0s 4ms/step - loss: 0.2338 - accuracy: 0.9438\n",
      "Epoch 81/750\n",
      "15/15 [==============================] - 0s 3ms/step - loss: 0.2253 - accuracy: 0.9438\n",
      "Epoch 82/750\n",
      "15/15 [==============================] - 0s 2ms/step - loss: 0.2248 - accuracy: 0.9558\n",
      "Epoch 83/750\n",
      "15/15 [==============================] - 0s 2ms/step - loss: 0.2226 - accuracy: 0.9558\n",
      "Epoch 84/750\n",
      "15/15 [==============================] - 0s 2ms/step - loss: 0.2279 - accuracy: 0.9518\n",
      "Epoch 85/750\n",
      "15/15 [==============================] - 0s 2ms/step - loss: 0.2177 - accuracy: 0.9478\n",
      "Epoch 86/750\n",
      "15/15 [==============================] - 0s 2ms/step - loss: 0.2193 - accuracy: 0.9558\n",
      "Epoch 87/750\n",
      "15/15 [==============================] - 0s 2ms/step - loss: 0.2170 - accuracy: 0.9518\n",
      "Epoch 88/750\n",
      "15/15 [==============================] - 0s 3ms/step - loss: 0.2165 - accuracy: 0.9639\n",
      "Epoch 89/750\n",
      "15/15 [==============================] - 0s 3ms/step - loss: 0.2178 - accuracy: 0.9518\n",
      "Epoch 90/750\n",
      "15/15 [==============================] - 0s 2ms/step - loss: 0.2114 - accuracy: 0.9639\n",
      "Epoch 91/750\n",
      "15/15 [==============================] - 0s 2ms/step - loss: 0.2152 - accuracy: 0.9558\n",
      "Epoch 92/750\n",
      "15/15 [==============================] - 0s 2ms/step - loss: 0.2135 - accuracy: 0.9558\n",
      "Epoch 93/750\n",
      "15/15 [==============================] - 0s 2ms/step - loss: 0.2124 - accuracy: 0.9558\n",
      "Epoch 94/750\n",
      "15/15 [==============================] - 0s 2ms/step - loss: 0.2104 - accuracy: 0.9558\n",
      "Epoch 95/750\n",
      "15/15 [==============================] - 0s 2ms/step - loss: 0.2123 - accuracy: 0.9518\n",
      "Epoch 96/750\n",
      "15/15 [==============================] - 0s 2ms/step - loss: 0.2077 - accuracy: 0.9518\n",
      "Epoch 97/750\n",
      "15/15 [==============================] - 0s 2ms/step - loss: 0.2601 - accuracy: 0.9518\n",
      "Epoch 98/750\n",
      "15/15 [==============================] - 0s 2ms/step - loss: 0.2597 - accuracy: 0.9719\n",
      "Epoch 99/750\n",
      "15/15 [==============================] - 0s 2ms/step - loss: 0.2148 - accuracy: 0.9719\n",
      "Epoch 100/750\n",
      "15/15 [==============================] - 0s 2ms/step - loss: 0.2009 - accuracy: 0.9598\n",
      "Epoch 101/750\n",
      "15/15 [==============================] - 0s 2ms/step - loss: 0.2004 - accuracy: 0.9598\n",
      "Epoch 102/750\n",
      "15/15 [==============================] - 0s 2ms/step - loss: 0.1983 - accuracy: 0.9639\n",
      "Epoch 103/750\n",
      "15/15 [==============================] - 0s 2ms/step - loss: 0.2016 - accuracy: 0.9639\n",
      "Epoch 104/750\n",
      "15/15 [==============================] - 0s 2ms/step - loss: 0.1978 - accuracy: 0.9679\n",
      "Epoch 105/750\n",
      "15/15 [==============================] - 0s 2ms/step - loss: 0.1963 - accuracy: 0.9598\n",
      "Epoch 106/750\n",
      "15/15 [==============================] - 0s 2ms/step - loss: 0.2025 - accuracy: 0.9598\n",
      "Epoch 107/750\n",
      "15/15 [==============================] - 0s 3ms/step - loss: 0.1950 - accuracy: 0.9639\n",
      "Epoch 108/750\n",
      "15/15 [==============================] - 0s 3ms/step - loss: 0.1930 - accuracy: 0.9679\n",
      "Epoch 109/750\n",
      "15/15 [==============================] - 0s 3ms/step - loss: 0.1880 - accuracy: 0.9679\n",
      "Epoch 110/750\n",
      "15/15 [==============================] - 0s 2ms/step - loss: 0.1985 - accuracy: 0.9639\n",
      "Epoch 111/750\n",
      "15/15 [==============================] - 0s 2ms/step - loss: 0.1880 - accuracy: 0.9639\n",
      "Epoch 112/750\n",
      "15/15 [==============================] - 0s 2ms/step - loss: 0.1950 - accuracy: 0.9679\n",
      "Epoch 113/750\n",
      "15/15 [==============================] - 0s 3ms/step - loss: 0.1823 - accuracy: 0.9719\n",
      "Epoch 114/750\n",
      "15/15 [==============================] - 0s 2ms/step - loss: 0.1927 - accuracy: 0.9598\n",
      "Epoch 115/750\n",
      "15/15 [==============================] - 0s 2ms/step - loss: 0.1871 - accuracy: 0.9759\n",
      "Epoch 116/750\n",
      "15/15 [==============================] - 0s 2ms/step - loss: 0.1931 - accuracy: 0.9719\n",
      "Epoch 117/750\n",
      "15/15 [==============================] - 0s 2ms/step - loss: 0.1807 - accuracy: 0.9799\n",
      "Epoch 118/750\n",
      "15/15 [==============================] - 0s 2ms/step - loss: 0.1855 - accuracy: 0.9759\n",
      "Epoch 119/750\n",
      "15/15 [==============================] - 0s 2ms/step - loss: 0.1828 - accuracy: 0.9679\n",
      "Epoch 120/750\n",
      "15/15 [==============================] - 0s 2ms/step - loss: 0.1863 - accuracy: 0.9719\n",
      "Epoch 121/750\n",
      "15/15 [==============================] - 0s 2ms/step - loss: 0.1875 - accuracy: 0.9719\n",
      "Epoch 122/750\n",
      "15/15 [==============================] - 0s 2ms/step - loss: 0.1833 - accuracy: 0.9719\n",
      "Epoch 123/750\n",
      "15/15 [==============================] - 0s 2ms/step - loss: 0.1846 - accuracy: 0.9759\n",
      "Epoch 124/750\n",
      "15/15 [==============================] - 0s 2ms/step - loss: 0.1812 - accuracy: 0.9799\n",
      "Epoch 125/750\n",
      "15/15 [==============================] - 0s 3ms/step - loss: 0.1778 - accuracy: 0.9839\n",
      "Epoch 126/750\n",
      "15/15 [==============================] - 0s 2ms/step - loss: 0.1799 - accuracy: 0.9759\n",
      "Epoch 127/750\n",
      "15/15 [==============================] - 0s 2ms/step - loss: 0.1778 - accuracy: 0.9719\n",
      "Epoch 128/750\n",
      "15/15 [==============================] - 0s 2ms/step - loss: 0.1799 - accuracy: 0.9679\n",
      "Epoch 129/750\n",
      "15/15 [==============================] - 0s 2ms/step - loss: 0.1814 - accuracy: 0.9719\n",
      "Epoch 130/750\n",
      "15/15 [==============================] - 0s 2ms/step - loss: 0.1739 - accuracy: 0.9759\n",
      "Epoch 131/750\n",
      "15/15 [==============================] - 0s 3ms/step - loss: 0.1711 - accuracy: 0.9799\n",
      "Epoch 132/750\n",
      "15/15 [==============================] - 0s 2ms/step - loss: 0.1768 - accuracy: 0.9679\n",
      "Epoch 133/750\n",
      "15/15 [==============================] - 0s 2ms/step - loss: 0.1783 - accuracy: 0.9679\n",
      "Epoch 134/750\n",
      "15/15 [==============================] - 0s 2ms/step - loss: 0.1738 - accuracy: 0.9719\n",
      "Epoch 135/750\n",
      "15/15 [==============================] - 0s 3ms/step - loss: 0.1731 - accuracy: 0.9719\n",
      "Epoch 136/750\n",
      "15/15 [==============================] - 0s 3ms/step - loss: 0.1698 - accuracy: 0.9679\n",
      "Epoch 137/750\n",
      "15/15 [==============================] - 0s 3ms/step - loss: 0.1715 - accuracy: 0.9799\n",
      "Epoch 138/750\n",
      "15/15 [==============================] - 0s 2ms/step - loss: 0.1647 - accuracy: 0.9839\n",
      "Epoch 139/750\n",
      "15/15 [==============================] - 0s 2ms/step - loss: 0.1703 - accuracy: 0.9839\n",
      "Epoch 140/750\n",
      "15/15 [==============================] - 0s 2ms/step - loss: 0.1718 - accuracy: 0.9719\n",
      "Epoch 141/750\n",
      "15/15 [==============================] - 0s 2ms/step - loss: 0.1661 - accuracy: 0.9759\n",
      "Epoch 142/750\n",
      "15/15 [==============================] - 0s 2ms/step - loss: 0.1729 - accuracy: 0.9719\n",
      "Epoch 143/750\n",
      "15/15 [==============================] - 0s 2ms/step - loss: 0.1681 - accuracy: 0.9799\n",
      "Epoch 144/750\n",
      "15/15 [==============================] - 0s 2ms/step - loss: 0.1648 - accuracy: 0.9799\n",
      "Epoch 145/750\n",
      "15/15 [==============================] - 0s 2ms/step - loss: 0.1652 - accuracy: 0.9839\n",
      "Epoch 146/750\n",
      "15/15 [==============================] - 0s 2ms/step - loss: 0.1574 - accuracy: 0.9799\n",
      "Epoch 147/750\n",
      "15/15 [==============================] - 0s 3ms/step - loss: 0.1626 - accuracy: 0.9759\n",
      "Epoch 148/750\n",
      "15/15 [==============================] - 0s 2ms/step - loss: 0.2281 - accuracy: 0.9759\n",
      "Epoch 149/750\n",
      "15/15 [==============================] - 0s 2ms/step - loss: 0.1581 - accuracy: 0.9799\n",
      "Epoch 150/750\n",
      "15/15 [==============================] - 0s 3ms/step - loss: 0.1564 - accuracy: 0.9839\n",
      "Epoch 151/750\n",
      "15/15 [==============================] - 0s 2ms/step - loss: 0.1659 - accuracy: 0.9759\n",
      "Epoch 152/750\n",
      "15/15 [==============================] - 0s 2ms/step - loss: 0.1642 - accuracy: 0.9759\n",
      "Epoch 153/750\n",
      "15/15 [==============================] - 0s 2ms/step - loss: 0.1603 - accuracy: 0.9839\n",
      "Epoch 154/750\n",
      "15/15 [==============================] - 0s 2ms/step - loss: 0.1580 - accuracy: 0.9839\n",
      "Epoch 155/750\n",
      "15/15 [==============================] - 0s 2ms/step - loss: 0.1633 - accuracy: 0.9799\n",
      "Epoch 156/750\n",
      "15/15 [==============================] - 0s 4ms/step - loss: 0.1608 - accuracy: 0.9799\n",
      "Epoch 157/750\n",
      "15/15 [==============================] - 0s 2ms/step - loss: 0.1558 - accuracy: 0.9799\n",
      "Epoch 158/750\n",
      "15/15 [==============================] - 0s 2ms/step - loss: 0.1610 - accuracy: 0.9799\n",
      "Epoch 159/750\n",
      "15/15 [==============================] - 0s 2ms/step - loss: 0.1568 - accuracy: 0.9799\n",
      "Epoch 160/750\n",
      "15/15 [==============================] - 0s 2ms/step - loss: 0.1564 - accuracy: 0.9799\n",
      "Epoch 161/750\n",
      "15/15 [==============================] - 0s 2ms/step - loss: 0.1621 - accuracy: 0.9759\n",
      "Epoch 162/750\n",
      "15/15 [==============================] - 0s 3ms/step - loss: 0.1552 - accuracy: 0.9799\n",
      "Epoch 163/750\n",
      "15/15 [==============================] - 0s 3ms/step - loss: 0.1562 - accuracy: 0.9799\n",
      "Epoch 164/750\n",
      "15/15 [==============================] - 0s 2ms/step - loss: 0.1591 - accuracy: 0.9839\n",
      "Epoch 165/750\n",
      "15/15 [==============================] - 0s 2ms/step - loss: 0.1532 - accuracy: 0.9839\n",
      "Epoch 166/750\n",
      "15/15 [==============================] - 0s 2ms/step - loss: 0.1604 - accuracy: 0.9759\n",
      "Epoch 167/750\n",
      "15/15 [==============================] - 0s 2ms/step - loss: 0.1519 - accuracy: 0.9880\n",
      "Epoch 168/750\n",
      "15/15 [==============================] - 0s 3ms/step - loss: 0.1505 - accuracy: 0.9759\n",
      "Epoch 169/750\n",
      "15/15 [==============================] - 0s 2ms/step - loss: 0.1579 - accuracy: 0.9799\n",
      "Epoch 170/750\n",
      "15/15 [==============================] - 0s 2ms/step - loss: 0.1536 - accuracy: 0.9799\n",
      "Epoch 171/750\n",
      "15/15 [==============================] - 0s 2ms/step - loss: 0.1515 - accuracy: 0.9839\n",
      "Epoch 172/750\n",
      "15/15 [==============================] - 0s 2ms/step - loss: 0.1569 - accuracy: 0.9759\n",
      "Epoch 173/750\n",
      "15/15 [==============================] - 0s 2ms/step - loss: 0.1552 - accuracy: 0.9880\n",
      "Epoch 174/750\n",
      "15/15 [==============================] - 0s 2ms/step - loss: 0.1522 - accuracy: 0.9880\n",
      "Epoch 175/750\n",
      "15/15 [==============================] - 0s 3ms/step - loss: 0.1483 - accuracy: 0.9839\n",
      "Epoch 176/750\n",
      "15/15 [==============================] - 0s 2ms/step - loss: 0.1530 - accuracy: 0.9799\n",
      "Epoch 177/750\n",
      "15/15 [==============================] - 0s 2ms/step - loss: 0.1545 - accuracy: 0.9880\n",
      "Epoch 178/750\n",
      "15/15 [==============================] - 0s 2ms/step - loss: 0.1501 - accuracy: 0.9880\n",
      "Epoch 179/750\n",
      "15/15 [==============================] - 0s 2ms/step - loss: 0.1504 - accuracy: 0.9759\n",
      "Epoch 180/750\n",
      "15/15 [==============================] - 0s 2ms/step - loss: 0.1536 - accuracy: 0.9759\n",
      "Epoch 181/750\n",
      "15/15 [==============================] - 0s 2ms/step - loss: 0.1457 - accuracy: 0.9880\n",
      "Epoch 182/750\n",
      "15/15 [==============================] - 0s 2ms/step - loss: 0.1528 - accuracy: 0.9880\n",
      "Epoch 183/750\n",
      "15/15 [==============================] - 0s 2ms/step - loss: 0.1501 - accuracy: 0.9839\n",
      "Epoch 184/750\n",
      "15/15 [==============================] - 0s 2ms/step - loss: 0.1456 - accuracy: 0.9880\n",
      "Epoch 185/750\n",
      "15/15 [==============================] - 0s 2ms/step - loss: 0.1499 - accuracy: 0.9880\n",
      "Epoch 186/750\n",
      "15/15 [==============================] - 0s 2ms/step - loss: 0.1460 - accuracy: 0.9880\n",
      "Epoch 187/750\n",
      "15/15 [==============================] - 0s 2ms/step - loss: 0.1450 - accuracy: 0.9880\n",
      "Epoch 188/750\n",
      "15/15 [==============================] - 0s 2ms/step - loss: 0.1401 - accuracy: 0.9880\n",
      "Epoch 189/750\n",
      "15/15 [==============================] - 0s 3ms/step - loss: 0.1521 - accuracy: 0.9759\n",
      "Epoch 190/750\n",
      "15/15 [==============================] - 0s 3ms/step - loss: 0.1489 - accuracy: 0.9839\n",
      "Epoch 191/750\n",
      "15/15 [==============================] - 0s 3ms/step - loss: 0.1488 - accuracy: 0.9839\n",
      "Epoch 192/750\n",
      "15/15 [==============================] - 0s 3ms/step - loss: 0.1462 - accuracy: 0.9839\n",
      "Epoch 193/750\n",
      "15/15 [==============================] - 0s 2ms/step - loss: 0.1411 - accuracy: 0.9880\n",
      "Epoch 194/750\n",
      "15/15 [==============================] - 0s 2ms/step - loss: 0.1477 - accuracy: 0.9839\n",
      "Epoch 195/750\n",
      "15/15 [==============================] - 0s 2ms/step - loss: 0.1429 - accuracy: 0.9880\n",
      "Epoch 196/750\n",
      "15/15 [==============================] - 0s 2ms/step - loss: 0.1415 - accuracy: 0.9880\n",
      "Epoch 197/750\n",
      "15/15 [==============================] - 0s 2ms/step - loss: 0.1431 - accuracy: 0.9880\n",
      "Epoch 198/750\n",
      "15/15 [==============================] - 0s 2ms/step - loss: 0.1426 - accuracy: 0.9880\n",
      "Epoch 199/750\n",
      "15/15 [==============================] - 0s 3ms/step - loss: 0.1443 - accuracy: 0.9880\n",
      "Epoch 200/750\n",
      "15/15 [==============================] - 0s 2ms/step - loss: 0.1398 - accuracy: 0.9880\n",
      "Epoch 201/750\n",
      "15/15 [==============================] - 0s 2ms/step - loss: 0.1494 - accuracy: 0.9839\n",
      "Epoch 202/750\n",
      "15/15 [==============================] - 0s 2ms/step - loss: 0.1422 - accuracy: 0.9880\n",
      "Epoch 203/750\n",
      "15/15 [==============================] - 0s 2ms/step - loss: 0.1412 - accuracy: 0.9880\n",
      "Epoch 204/750\n",
      "15/15 [==============================] - 0s 2ms/step - loss: 0.1493 - accuracy: 0.9839\n",
      "Epoch 205/750\n",
      "15/15 [==============================] - 0s 2ms/step - loss: 0.1354 - accuracy: 0.9880\n",
      "Epoch 206/750\n",
      "15/15 [==============================] - 0s 2ms/step - loss: 0.1513 - accuracy: 0.9839\n",
      "Epoch 207/750\n",
      "15/15 [==============================] - 0s 2ms/step - loss: 0.1392 - accuracy: 0.9839\n",
      "Epoch 208/750\n",
      "15/15 [==============================] - 0s 2ms/step - loss: 0.1409 - accuracy: 0.9839\n",
      "Epoch 209/750\n",
      "15/15 [==============================] - 0s 2ms/step - loss: 0.1398 - accuracy: 0.9880\n",
      "Epoch 210/750\n",
      "15/15 [==============================] - 0s 2ms/step - loss: 0.1397 - accuracy: 0.9880\n",
      "Epoch 211/750\n",
      "15/15 [==============================] - 0s 2ms/step - loss: 0.1423 - accuracy: 0.9839\n",
      "Epoch 212/750\n",
      "15/15 [==============================] - 0s 2ms/step - loss: 0.1378 - accuracy: 0.9880\n",
      "Epoch 213/750\n",
      "15/15 [==============================] - 0s 2ms/step - loss: 0.1461 - accuracy: 0.9839\n",
      "Epoch 214/750\n",
      "15/15 [==============================] - 0s 2ms/step - loss: 0.1387 - accuracy: 0.9839\n",
      "Epoch 215/750\n",
      "15/15 [==============================] - 0s 2ms/step - loss: 0.1385 - accuracy: 0.9839\n",
      "Epoch 216/750\n",
      "15/15 [==============================] - 0s 2ms/step - loss: 0.1412 - accuracy: 0.9880\n",
      "Epoch 217/750\n",
      "15/15 [==============================] - 0s 2ms/step - loss: 0.1353 - accuracy: 0.9880\n",
      "Epoch 218/750\n",
      "15/15 [==============================] - 0s 3ms/step - loss: 0.1459 - accuracy: 0.9839\n",
      "Epoch 219/750\n",
      "15/15 [==============================] - 0s 3ms/step - loss: 0.1399 - accuracy: 0.9839\n",
      "Epoch 220/750\n",
      "15/15 [==============================] - 0s 2ms/step - loss: 0.1394 - accuracy: 0.9880\n",
      "Epoch 221/750\n",
      "15/15 [==============================] - 0s 2ms/step - loss: 0.1381 - accuracy: 0.9839\n",
      "Epoch 222/750\n",
      "15/15 [==============================] - 0s 2ms/step - loss: 0.1383 - accuracy: 0.9920\n",
      "Epoch 223/750\n",
      "15/15 [==============================] - 0s 2ms/step - loss: 0.1381 - accuracy: 0.9839\n",
      "Epoch 224/750\n",
      "15/15 [==============================] - 0s 2ms/step - loss: 0.1374 - accuracy: 0.9880\n",
      "Epoch 225/750\n",
      "15/15 [==============================] - 0s 3ms/step - loss: 0.1420 - accuracy: 0.9839\n",
      "Epoch 226/750\n",
      "15/15 [==============================] - 0s 2ms/step - loss: 0.1448 - accuracy: 0.9839\n",
      "Epoch 227/750\n",
      "15/15 [==============================] - 0s 3ms/step - loss: 0.1351 - accuracy: 0.9880\n",
      "Epoch 228/750\n",
      "15/15 [==============================] - 0s 2ms/step - loss: 0.1361 - accuracy: 0.9880\n",
      "Epoch 229/750\n",
      "15/15 [==============================] - 0s 2ms/step - loss: 0.1386 - accuracy: 0.9920\n",
      "Epoch 230/750\n",
      "15/15 [==============================] - 0s 2ms/step - loss: 0.1942 - accuracy: 0.9839\n",
      "Epoch 231/750\n",
      "15/15 [==============================] - 0s 2ms/step - loss: 0.1909 - accuracy: 0.9880\n",
      "Epoch 232/750\n",
      "15/15 [==============================] - 0s 2ms/step - loss: 0.1892 - accuracy: 0.9880\n",
      "Epoch 233/750\n",
      "15/15 [==============================] - 0s 2ms/step - loss: 0.1968 - accuracy: 0.9880\n",
      "Epoch 234/750\n",
      "15/15 [==============================] - 0s 2ms/step - loss: 0.1935 - accuracy: 0.9880\n",
      "Epoch 235/750\n",
      "15/15 [==============================] - 0s 2ms/step - loss: 0.1890 - accuracy: 0.9880\n",
      "Epoch 236/750\n",
      "15/15 [==============================] - 0s 2ms/step - loss: 0.1897 - accuracy: 0.9880\n",
      "Epoch 237/750\n",
      "15/15 [==============================] - 0s 2ms/step - loss: 0.1400 - accuracy: 0.9880\n",
      "Epoch 238/750\n",
      "15/15 [==============================] - 0s 3ms/step - loss: 0.1385 - accuracy: 0.9880\n",
      "Epoch 239/750\n",
      "15/15 [==============================] - 0s 2ms/step - loss: 0.1383 - accuracy: 0.9880\n",
      "Epoch 240/750\n",
      "15/15 [==============================] - 0s 2ms/step - loss: 0.1342 - accuracy: 0.9839\n",
      "Epoch 241/750\n",
      "15/15 [==============================] - 0s 2ms/step - loss: 0.1369 - accuracy: 0.9880\n",
      "Epoch 242/750\n",
      "15/15 [==============================] - 0s 4ms/step - loss: 0.1327 - accuracy: 0.9920\n",
      "Epoch 243/750\n",
      "15/15 [==============================] - 0s 3ms/step - loss: 0.1413 - accuracy: 0.9880\n",
      "Epoch 244/750\n",
      "15/15 [==============================] - 0s 4ms/step - loss: 0.1373 - accuracy: 0.9880\n",
      "Epoch 245/750\n",
      "15/15 [==============================] - 0s 3ms/step - loss: 0.1346 - accuracy: 0.9880\n",
      "Epoch 246/750\n",
      "15/15 [==============================] - 0s 3ms/step - loss: 0.1326 - accuracy: 0.9880\n",
      "Epoch 247/750\n",
      "15/15 [==============================] - 0s 2ms/step - loss: 0.1413 - accuracy: 0.9880\n",
      "Epoch 248/750\n",
      "15/15 [==============================] - 0s 2ms/step - loss: 0.1351 - accuracy: 0.9839\n",
      "Epoch 249/750\n",
      "15/15 [==============================] - 0s 2ms/step - loss: 0.1333 - accuracy: 0.9880\n",
      "Epoch 250/750\n",
      "15/15 [==============================] - 0s 3ms/step - loss: 0.1315 - accuracy: 0.9880\n",
      "Epoch 251/750\n",
      "15/15 [==============================] - 0s 3ms/step - loss: 0.1316 - accuracy: 0.9920\n",
      "Epoch 252/750\n",
      "15/15 [==============================] - 0s 3ms/step - loss: 0.1893 - accuracy: 0.9880\n",
      "Epoch 253/750\n",
      "15/15 [==============================] - 0s 3ms/step - loss: 0.1384 - accuracy: 0.9839\n",
      "Epoch 254/750\n",
      "15/15 [==============================] - 0s 3ms/step - loss: 0.1336 - accuracy: 0.9880\n",
      "Epoch 255/750\n",
      "15/15 [==============================] - 0s 3ms/step - loss: 0.1389 - accuracy: 0.9839\n",
      "Epoch 256/750\n",
      "15/15 [==============================] - 0s 2ms/step - loss: 0.1325 - accuracy: 0.9880\n",
      "Epoch 257/750\n",
      "15/15 [==============================] - 0s 2ms/step - loss: 0.1355 - accuracy: 0.9880\n",
      "Epoch 258/750\n",
      "15/15 [==============================] - 0s 3ms/step - loss: 0.1355 - accuracy: 0.9839\n",
      "Epoch 259/750\n",
      "15/15 [==============================] - 0s 3ms/step - loss: 0.1348 - accuracy: 0.9839\n",
      "Epoch 260/750\n",
      "15/15 [==============================] - 0s 3ms/step - loss: 0.1321 - accuracy: 0.9880\n",
      "Epoch 261/750\n",
      "15/15 [==============================] - 0s 3ms/step - loss: 0.1320 - accuracy: 0.9880\n",
      "Epoch 262/750\n",
      "15/15 [==============================] - 0s 3ms/step - loss: 0.1364 - accuracy: 0.9799\n",
      "Epoch 263/750\n",
      "15/15 [==============================] - 0s 3ms/step - loss: 0.1363 - accuracy: 0.9880\n",
      "Epoch 264/750\n",
      "15/15 [==============================] - 0s 3ms/step - loss: 0.1355 - accuracy: 0.9880\n",
      "Epoch 265/750\n",
      "15/15 [==============================] - 0s 3ms/step - loss: 0.1332 - accuracy: 0.9839\n",
      "Epoch 266/750\n",
      "15/15 [==============================] - 0s 3ms/step - loss: 0.1368 - accuracy: 0.9880\n",
      "Epoch 267/750\n",
      "15/15 [==============================] - 0s 2ms/step - loss: 0.1306 - accuracy: 0.9880\n",
      "Epoch 268/750\n",
      "15/15 [==============================] - 0s 2ms/step - loss: 0.1344 - accuracy: 0.9880\n",
      "Epoch 269/750\n",
      "15/15 [==============================] - 0s 2ms/step - loss: 0.1378 - accuracy: 0.9880\n",
      "Epoch 270/750\n",
      "15/15 [==============================] - 0s 3ms/step - loss: 0.1332 - accuracy: 0.9839\n",
      "Epoch 271/750\n",
      "15/15 [==============================] - 0s 3ms/step - loss: 0.1290 - accuracy: 0.9920\n",
      "Epoch 272/750\n",
      "15/15 [==============================] - 0s 2ms/step - loss: 0.1322 - accuracy: 0.9880\n",
      "Epoch 273/750\n",
      "15/15 [==============================] - 0s 2ms/step - loss: 0.1904 - accuracy: 0.9880\n",
      "Epoch 274/750\n",
      "15/15 [==============================] - 0s 2ms/step - loss: 0.1390 - accuracy: 0.9839\n",
      "Epoch 275/750\n",
      "15/15 [==============================] - 0s 2ms/step - loss: 0.1333 - accuracy: 0.9880\n",
      "Epoch 276/750\n",
      "15/15 [==============================] - 0s 4ms/step - loss: 0.1370 - accuracy: 0.9839\n",
      "Epoch 277/750\n",
      "15/15 [==============================] - 0s 3ms/step - loss: 0.1340 - accuracy: 0.9880\n",
      "Epoch 278/750\n",
      "15/15 [==============================] - 0s 2ms/step - loss: 0.1327 - accuracy: 0.9880\n",
      "Epoch 279/750\n",
      "15/15 [==============================] - 0s 2ms/step - loss: 0.1338 - accuracy: 0.9880\n",
      "Epoch 280/750\n",
      "15/15 [==============================] - 0s 2ms/step - loss: 0.1367 - accuracy: 0.9839\n",
      "Epoch 281/750\n",
      "15/15 [==============================] - 0s 2ms/step - loss: 0.1361 - accuracy: 0.9880\n",
      "Epoch 282/750\n",
      "15/15 [==============================] - 0s 2ms/step - loss: 0.1370 - accuracy: 0.9839\n",
      "Epoch 283/750\n",
      "15/15 [==============================] - 0s 3ms/step - loss: 0.1330 - accuracy: 0.9880\n",
      "Epoch 284/750\n",
      "15/15 [==============================] - 0s 2ms/step - loss: 0.1335 - accuracy: 0.9839\n",
      "Epoch 285/750\n",
      "15/15 [==============================] - 0s 2ms/step - loss: 0.1320 - accuracy: 0.9880\n",
      "Epoch 286/750\n",
      "15/15 [==============================] - 0s 2ms/step - loss: 0.1362 - accuracy: 0.9880\n",
      "Epoch 287/750\n",
      "15/15 [==============================] - 0s 2ms/step - loss: 0.1364 - accuracy: 0.9880\n",
      "Epoch 288/750\n",
      "15/15 [==============================] - 0s 2ms/step - loss: 0.1341 - accuracy: 0.9880\n",
      "Epoch 289/750\n",
      "15/15 [==============================] - 0s 2ms/step - loss: 0.1336 - accuracy: 0.9839\n",
      "Epoch 290/750\n",
      "15/15 [==============================] - 0s 2ms/step - loss: 0.1392 - accuracy: 0.9880\n",
      "Epoch 291/750\n",
      " 1/15 [=>............................] - ETA: 0s - loss: 0.0000e+00 - accuracy: 1.0000Restoring model weights from the end of the best epoch: 271.\n",
      "15/15 [==============================] - 0s 3ms/step - loss: 0.1311 - accuracy: 0.9880\n",
      "Epoch 291: early stopping\n"
     ]
    }
   ],
   "source": [
    "history_rmsprop = model_rmsprop.fit(X_train, y_train, epochs=750,callbacks=[callback],\\\n",
    "                                    steps_per_epoch = 15)"
   ]
  },
  {
   "cell_type": "code",
   "execution_count": 68,
   "id": "8b8e861d",
   "metadata": {},
   "outputs": [
    {
     "data": {
      "image/png": "[encoded data removed]",
      "text/plain": [
       "<Figure size 576x360 with 1 Axes>"
      ]
     },
     "metadata": {
      "needs_background": "light"
     },
     "output_type": "display_data"
    }
   ],
   "source": [
    "pd.DataFrame(history_rmsprop.history).plot(figsize=(8, 5))\n",
    "plt.grid(True)\n",
    "plt.gca()#.set_ylim(0, 1.5)\n",
    "plt.show()"
   ]
  },
  {
   "cell_type": "code",
   "execution_count": 69,
   "id": "af361adf",
   "metadata": {},
   "outputs": [
    {
     "name": "stdout",
     "output_type": "stream",
     "text": [
      "3/3 [==============================] - 0s 8ms/step - loss: 2.7817 - accuracy: 0.8214\n"
     ]
    }
   ],
   "source": [
    "X_test_accuracy_rmsprop = model_rmsprop.evaluate(X_test, y_test)[1]"
   ]
  },
  {
   "cell_type": "code",
   "execution_count": 70,
   "id": "c4e5368b",
   "metadata": {},
   "outputs": [
    {
     "name": "stdout",
     "output_type": "stream",
     "text": [
      "The model accuracy was found to be: 0.8214285969734192\n"
     ]
    }
   ],
   "source": [
    "print(\"The model accuracy was found to be: \" + str(X_test_accuracy_rmsprop))"
   ]
  },
  {
   "cell_type": "markdown",
   "id": "302e070e",
   "metadata": {},
   "source": [
    "# Test Cases"
   ]
  },
  {
   "cell_type": "markdown",
   "id": "675876b1",
   "metadata": {},
   "source": [
    "Car = 0; Train = 1"
   ]
  },
  {
   "cell_type": "code",
   "execution_count": 71,
   "id": "2af57d02",
   "metadata": {},
   "outputs": [
    {
     "data": {
      "text/html": [
       "<div>\n",
       "<style scoped>\n",
       "    .dataframe tbody tr th:only-of-type {\n",
       "        vertical-align: middle;\n",
       "    }\n",
       "\n",
       "    .dataframe tbody tr th {\n",
       "        vertical-align: top;\n",
       "    }\n",
       "\n",
       "    .dataframe thead th {\n",
       "        text-align: right;\n",
       "    }\n",
       "</style>\n",
       "<table border=\"1\" class=\"dataframe\">\n",
       "  <thead>\n",
       "    <tr style=\"text-align: right;\">\n",
       "      <th></th>\n",
       "      <th>cartime</th>\n",
       "      <th>carcost</th>\n",
       "      <th>traintime</th>\n",
       "      <th>traincost</th>\n",
       "      <th>cost_delta</th>\n",
       "      <th>time_delta</th>\n",
       "      <th>car_time_over_50</th>\n",
       "      <th>train_time_over_50</th>\n",
       "      <th>car_cost_over_100</th>\n",
       "      <th>train_cost_over_50</th>\n",
       "      <th>car_to_train_time</th>\n",
       "      <th>car_to_train_cost</th>\n",
       "    </tr>\n",
       "  </thead>\n",
       "  <tbody>\n",
       "    <tr>\n",
       "      <th>25</th>\n",
       "      <td>35</td>\n",
       "      <td>56</td>\n",
       "      <td>87</td>\n",
       "      <td>40</td>\n",
       "      <td>16</td>\n",
       "      <td>-52</td>\n",
       "      <td>0</td>\n",
       "      <td>1</td>\n",
       "      <td>0</td>\n",
       "      <td>0</td>\n",
       "      <td>0.402299</td>\n",
       "      <td>1.4</td>\n",
       "    </tr>\n",
       "  </tbody>\n",
       "</table>\n",
       "</div>"
      ],
      "text/plain": [
       "    cartime  carcost  traintime  traincost  cost_delta  time_delta  \\\n",
       "25       35       56         87         40          16         -52   \n",
       "\n",
       "    car_time_over_50  train_time_over_50  car_cost_over_100  \\\n",
       "25                 0                   1                  0   \n",
       "\n",
       "    train_cost_over_50  car_to_train_time  car_to_train_cost  \n",
       "25                   0           0.402299                1.4  "
      ]
     },
     "execution_count": 71,
     "metadata": {},
     "output_type": "execute_result"
    }
   ],
   "source": [
    "X_test.head(1)"
   ]
  },
  {
   "cell_type": "code",
   "execution_count": 72,
   "id": "d2d0c5c4",
   "metadata": {},
   "outputs": [
    {
     "data": {
      "text/html": [
       "<div>\n",
       "<style scoped>\n",
       "    .dataframe tbody tr th:only-of-type {\n",
       "        vertical-align: middle;\n",
       "    }\n",
       "\n",
       "    .dataframe tbody tr th {\n",
       "        vertical-align: top;\n",
       "    }\n",
       "\n",
       "    .dataframe thead th {\n",
       "        text-align: right;\n",
       "    }\n",
       "</style>\n",
       "<table border=\"1\" class=\"dataframe\">\n",
       "  <thead>\n",
       "    <tr style=\"text-align: right;\">\n",
       "      <th></th>\n",
       "      <th>choice</th>\n",
       "    </tr>\n",
       "  </thead>\n",
       "  <tbody>\n",
       "    <tr>\n",
       "      <th>25</th>\n",
       "      <td>0</td>\n",
       "    </tr>\n",
       "  </tbody>\n",
       "</table>\n",
       "</div>"
      ],
      "text/plain": [
       "    choice\n",
       "25       0"
      ]
     },
     "execution_count": 72,
     "metadata": {},
     "output_type": "execute_result"
    }
   ],
   "source": [
    "y_test.head(1)"
   ]
  },
  {
   "cell_type": "code",
   "execution_count": 73,
   "id": "20c2d863",
   "metadata": {},
   "outputs": [
    {
     "name": "stdout",
     "output_type": "stream",
     "text": [
      "1/1 [==============================] - 0s 31ms/step - loss: 0.0000e+00 - accuracy: 1.0000\n"
     ]
    },
    {
     "data": {
      "text/plain": [
       "1.0"
      ]
     },
     "execution_count": 73,
     "metadata": {},
     "output_type": "execute_result"
    }
   ],
   "source": [
    "model_rmsprop.evaluate(X_test.head(1),y_test.head(1))[1]"
   ]
  },
  {
   "cell_type": "code",
   "execution_count": 74,
   "id": "b0b5b695",
   "metadata": {},
   "outputs": [
    {
     "data": {
      "text/html": [
       "<div>\n",
       "<style scoped>\n",
       "    .dataframe tbody tr th:only-of-type {\n",
       "        vertical-align: middle;\n",
       "    }\n",
       "\n",
       "    .dataframe tbody tr th {\n",
       "        vertical-align: top;\n",
       "    }\n",
       "\n",
       "    .dataframe thead th {\n",
       "        text-align: right;\n",
       "    }\n",
       "</style>\n",
       "<table border=\"1\" class=\"dataframe\">\n",
       "  <thead>\n",
       "    <tr style=\"text-align: right;\">\n",
       "      <th></th>\n",
       "      <th>cartime</th>\n",
       "      <th>carcost</th>\n",
       "      <th>traintime</th>\n",
       "      <th>traincost</th>\n",
       "      <th>cost_delta</th>\n",
       "      <th>time_delta</th>\n",
       "      <th>car_time_over_50</th>\n",
       "      <th>train_time_over_50</th>\n",
       "      <th>car_cost_over_100</th>\n",
       "      <th>train_cost_over_50</th>\n",
       "      <th>car_to_train_time</th>\n",
       "      <th>car_to_train_cost</th>\n",
       "    </tr>\n",
       "  </thead>\n",
       "  <tbody>\n",
       "    <tr>\n",
       "      <th>10</th>\n",
       "      <td>36</td>\n",
       "      <td>30</td>\n",
       "      <td>65</td>\n",
       "      <td>70</td>\n",
       "      <td>-40</td>\n",
       "      <td>-29</td>\n",
       "      <td>0</td>\n",
       "      <td>1</td>\n",
       "      <td>0</td>\n",
       "      <td>1</td>\n",
       "      <td>0.553846</td>\n",
       "      <td>0.428571</td>\n",
       "    </tr>\n",
       "  </tbody>\n",
       "</table>\n",
       "</div>"
      ],
      "text/plain": [
       "    cartime  carcost  traintime  traincost  cost_delta  time_delta  \\\n",
       "10       36       30         65         70         -40         -29   \n",
       "\n",
       "    car_time_over_50  train_time_over_50  car_cost_over_100  \\\n",
       "10                 0                   1                  0   \n",
       "\n",
       "    train_cost_over_50  car_to_train_time  car_to_train_cost  \n",
       "10                   1           0.553846           0.428571  "
      ]
     },
     "execution_count": 74,
     "metadata": {},
     "output_type": "execute_result"
    }
   ],
   "source": [
    "df_x.loc[[10]]"
   ]
  },
  {
   "cell_type": "code",
   "execution_count": 75,
   "id": "8c0ac7a8",
   "metadata": {},
   "outputs": [
    {
     "data": {
      "text/html": [
       "<div>\n",
       "<style scoped>\n",
       "    .dataframe tbody tr th:only-of-type {\n",
       "        vertical-align: middle;\n",
       "    }\n",
       "\n",
       "    .dataframe tbody tr th {\n",
       "        vertical-align: top;\n",
       "    }\n",
       "\n",
       "    .dataframe thead th {\n",
       "        text-align: right;\n",
       "    }\n",
       "</style>\n",
       "<table border=\"1\" class=\"dataframe\">\n",
       "  <thead>\n",
       "    <tr style=\"text-align: right;\">\n",
       "      <th></th>\n",
       "      <th>choice</th>\n",
       "    </tr>\n",
       "  </thead>\n",
       "  <tbody>\n",
       "    <tr>\n",
       "      <th>10</th>\n",
       "      <td>0</td>\n",
       "    </tr>\n",
       "  </tbody>\n",
       "</table>\n",
       "</div>"
      ],
      "text/plain": [
       "    choice\n",
       "10       0"
      ]
     },
     "execution_count": 75,
     "metadata": {},
     "output_type": "execute_result"
    }
   ],
   "source": [
    "df_y.loc[[10]]"
   ]
  },
  {
   "cell_type": "code",
   "execution_count": 76,
   "id": "769d1e07",
   "metadata": {},
   "outputs": [
    {
     "name": "stdout",
     "output_type": "stream",
     "text": [
      "1/1 [==============================] - 0s 31ms/step - loss: 0.0000e+00 - accuracy: 1.0000\n"
     ]
    },
    {
     "data": {
      "text/plain": [
       "1.0"
      ]
     },
     "execution_count": 76,
     "metadata": {},
     "output_type": "execute_result"
    }
   ],
   "source": [
    "model_rmsprop.evaluate(df_x.loc[[10]],df_y.loc[[10]])[1]"
   ]
  },
  {
   "cell_type": "code",
   "execution_count": 77,
   "id": "d1af0ad0",
   "metadata": {},
   "outputs": [
    {
     "data": {
      "text/html": [
       "<div>\n",
       "<style scoped>\n",
       "    .dataframe tbody tr th:only-of-type {\n",
       "        vertical-align: middle;\n",
       "    }\n",
       "\n",
       "    .dataframe tbody tr th {\n",
       "        vertical-align: top;\n",
       "    }\n",
       "\n",
       "    .dataframe thead th {\n",
       "        text-align: right;\n",
       "    }\n",
       "</style>\n",
       "<table border=\"1\" class=\"dataframe\">\n",
       "  <thead>\n",
       "    <tr style=\"text-align: right;\">\n",
       "      <th></th>\n",
       "      <th>cartime</th>\n",
       "      <th>carcost</th>\n",
       "      <th>traintime</th>\n",
       "      <th>traincost</th>\n",
       "      <th>choice</th>\n",
       "      <th>cost_delta</th>\n",
       "      <th>time_delta</th>\n",
       "      <th>car_time_over_50</th>\n",
       "      <th>train_time_over_50</th>\n",
       "      <th>car_cost_over_100</th>\n",
       "      <th>train_cost_over_50</th>\n",
       "      <th>car_to_train_time</th>\n",
       "      <th>car_to_train_cost</th>\n",
       "    </tr>\n",
       "  </thead>\n",
       "  <tbody>\n",
       "    <tr>\n",
       "      <th>10</th>\n",
       "      <td>36</td>\n",
       "      <td>30</td>\n",
       "      <td>65</td>\n",
       "      <td>70</td>\n",
       "      <td>CAR</td>\n",
       "      <td>-40</td>\n",
       "      <td>-29</td>\n",
       "      <td>0</td>\n",
       "      <td>1</td>\n",
       "      <td>0</td>\n",
       "      <td>1</td>\n",
       "      <td>0.553846</td>\n",
       "      <td>0.428571</td>\n",
       "    </tr>\n",
       "  </tbody>\n",
       "</table>\n",
       "</div>"
      ],
      "text/plain": [
       "    cartime  carcost  traintime  traincost choice  cost_delta  time_delta  \\\n",
       "10       36       30         65         70    CAR         -40         -29   \n",
       "\n",
       "    car_time_over_50  train_time_over_50  car_cost_over_100  \\\n",
       "10                 0                   1                  0   \n",
       "\n",
       "    train_cost_over_50  car_to_train_time  car_to_train_cost  \n",
       "10                   1           0.553846           0.428571  "
      ]
     },
     "execution_count": 77,
     "metadata": {},
     "output_type": "execute_result"
    }
   ],
   "source": [
    "df.loc[[10]]"
   ]
  },
  {
   "cell_type": "code",
   "execution_count": 78,
   "id": "5a565002",
   "metadata": {},
   "outputs": [
    {
     "name": "stdout",
     "output_type": "stream",
     "text": [
      "1/1 [==============================] - 0s 16ms/step - loss: 0.0000e+00 - accuracy: 1.0000\n"
     ]
    },
    {
     "data": {
      "text/plain": [
       "1.0"
      ]
     },
     "execution_count": 78,
     "metadata": {},
     "output_type": "execute_result"
    }
   ],
   "source": [
    "model_rmsprop.evaluate(df_x.loc[[100]],df_y.loc[[100]])[1]"
   ]
  },
  {
   "cell_type": "code",
   "execution_count": 79,
   "id": "b37af3ac",
   "metadata": {},
   "outputs": [
    {
     "name": "stdout",
     "output_type": "stream",
     "text": [
      "1/1 [==============================] - 0s 18ms/step - loss: 0.0000e+00 - accuracy: 1.0000\n"
     ]
    },
    {
     "data": {
      "text/plain": [
       "1.0"
      ]
     },
     "execution_count": 79,
     "metadata": {},
     "output_type": "execute_result"
    }
   ],
   "source": [
    "model_rmsprop.evaluate(df_x.loc[[200]],df_y.loc[[200]])[1]"
   ]
  },
  {
   "cell_type": "code",
   "execution_count": 80,
   "id": "d3751c91",
   "metadata": {},
   "outputs": [
    {
     "name": "stdout",
     "output_type": "stream",
     "text": [
      "1/1 [==============================] - 0s 30ms/step - loss: 0.0000e+00 - accuracy: 1.0000\n"
     ]
    },
    {
     "data": {
      "text/plain": [
       "1.0"
      ]
     },
     "execution_count": 80,
     "metadata": {},
     "output_type": "execute_result"
    }
   ],
   "source": [
    "model_rmsprop.evaluate(df_x.loc[[300]],df_y.loc[[300]])[1]"
   ]
  },
  {
   "cell_type": "code",
   "execution_count": 81,
   "id": "226bfc7e",
   "metadata": {},
   "outputs": [
    {
     "name": "stdout",
     "output_type": "stream",
     "text": [
      "1/1 [==============================] - 0s 19ms/step - loss: 0.0000e+00 - accuracy: 1.0000\n"
     ]
    },
    {
     "data": {
      "text/plain": [
       "1.0"
      ]
     },
     "execution_count": 81,
     "metadata": {},
     "output_type": "execute_result"
    }
   ],
   "source": [
    "model_rmsprop.evaluate(df_x.loc[[111]],df_y.loc[[111]])[1]"
   ]
  },
  {
   "cell_type": "code",
   "execution_count": 82,
   "id": "e7e8b9f8",
   "metadata": {},
   "outputs": [
    {
     "name": "stdout",
     "output_type": "stream",
     "text": [
      "1/1 [==============================] - 0s 30ms/step - loss: 0.1808 - accuracy: 1.0000\n"
     ]
    },
    {
     "data": {
      "text/plain": [
       "1.0"
      ]
     },
     "execution_count": 82,
     "metadata": {},
     "output_type": "execute_result"
    }
   ],
   "source": [
    "model_rmsprop.evaluate(df_x.loc[[75]],df_y.loc[[75]])[1]"
   ]
  },
  {
   "cell_type": "code",
   "execution_count": 83,
   "id": "297f1689",
   "metadata": {},
   "outputs": [
    {
     "data": {
      "text/html": [
       "<div>\n",
       "<style scoped>\n",
       "    .dataframe tbody tr th:only-of-type {\n",
       "        vertical-align: middle;\n",
       "    }\n",
       "\n",
       "    .dataframe tbody tr th {\n",
       "        vertical-align: top;\n",
       "    }\n",
       "\n",
       "    .dataframe thead th {\n",
       "        text-align: right;\n",
       "    }\n",
       "</style>\n",
       "<table border=\"1\" class=\"dataframe\">\n",
       "  <thead>\n",
       "    <tr style=\"text-align: right;\">\n",
       "      <th></th>\n",
       "      <th>cartime</th>\n",
       "      <th>carcost</th>\n",
       "      <th>traintime</th>\n",
       "      <th>traincost</th>\n",
       "      <th>cost_delta</th>\n",
       "      <th>time_delta</th>\n",
       "      <th>car_time_over_50</th>\n",
       "      <th>train_time_over_50</th>\n",
       "      <th>car_cost_over_100</th>\n",
       "      <th>train_cost_over_50</th>\n",
       "      <th>car_to_train_time</th>\n",
       "      <th>car_to_train_cost</th>\n",
       "    </tr>\n",
       "  </thead>\n",
       "  <tbody>\n",
       "    <tr>\n",
       "      <th>75</th>\n",
       "      <td>25</td>\n",
       "      <td>50</td>\n",
       "      <td>40</td>\n",
       "      <td>17</td>\n",
       "      <td>33</td>\n",
       "      <td>-15</td>\n",
       "      <td>0</td>\n",
       "      <td>0</td>\n",
       "      <td>0</td>\n",
       "      <td>0</td>\n",
       "      <td>0.625</td>\n",
       "      <td>2.941176</td>\n",
       "    </tr>\n",
       "  </tbody>\n",
       "</table>\n",
       "</div>"
      ],
      "text/plain": [
       "    cartime  carcost  traintime  traincost  cost_delta  time_delta  \\\n",
       "75       25       50         40         17          33         -15   \n",
       "\n",
       "    car_time_over_50  train_time_over_50  car_cost_over_100  \\\n",
       "75                 0                   0                  0   \n",
       "\n",
       "    train_cost_over_50  car_to_train_time  car_to_train_cost  \n",
       "75                   0              0.625           2.941176  "
      ]
     },
     "execution_count": 83,
     "metadata": {},
     "output_type": "execute_result"
    }
   ],
   "source": [
    "df_x.loc[[75]]"
   ]
  },
  {
   "cell_type": "code",
   "execution_count": 84,
   "id": "c4d0ce9c",
   "metadata": {},
   "outputs": [
    {
     "data": {
      "text/html": [
       "<div>\n",
       "<style scoped>\n",
       "    .dataframe tbody tr th:only-of-type {\n",
       "        vertical-align: middle;\n",
       "    }\n",
       "\n",
       "    .dataframe tbody tr th {\n",
       "        vertical-align: top;\n",
       "    }\n",
       "\n",
       "    .dataframe thead th {\n",
       "        text-align: right;\n",
       "    }\n",
       "</style>\n",
       "<table border=\"1\" class=\"dataframe\">\n",
       "  <thead>\n",
       "    <tr style=\"text-align: right;\">\n",
       "      <th></th>\n",
       "      <th>choice</th>\n",
       "    </tr>\n",
       "  </thead>\n",
       "  <tbody>\n",
       "    <tr>\n",
       "      <th>75</th>\n",
       "      <td>0</td>\n",
       "    </tr>\n",
       "  </tbody>\n",
       "</table>\n",
       "</div>"
      ],
      "text/plain": [
       "    choice\n",
       "75       0"
      ]
     },
     "execution_count": 84,
     "metadata": {},
     "output_type": "execute_result"
    }
   ],
   "source": [
    "df_y.loc[[75]]"
   ]
  },
  {
   "cell_type": "code",
   "execution_count": 85,
   "id": "c8aedf6c",
   "metadata": {},
   "outputs": [
    {
     "name": "stdout",
     "output_type": "stream",
     "text": [
      "1/1 [==============================] - 0s 31ms/step - loss: 0.0000e+00 - accuracy: 1.0000\n"
     ]
    },
    {
     "data": {
      "text/plain": [
       "1.0"
      ]
     },
     "execution_count": 85,
     "metadata": {},
     "output_type": "execute_result"
    }
   ],
   "source": [
    "model_rmsprop.evaluate(df_x.loc[[195]],df_y.loc[[195]])[1]"
   ]
  },
  {
   "cell_type": "code",
   "execution_count": 86,
   "id": "8dd7fb6f",
   "metadata": {},
   "outputs": [],
   "source": [
    "y_test_index_list = y_test.index.values.tolist()"
   ]
  },
  {
   "cell_type": "code",
   "execution_count": 87,
   "id": "40582382",
   "metadata": {},
   "outputs": [],
   "source": [
    "y_test = y_test.reset_index()"
   ]
  },
  {
   "cell_type": "code",
   "execution_count": 88,
   "id": "c9fedced",
   "metadata": {},
   "outputs": [
    {
     "name": "stdout",
     "output_type": "stream",
     "text": [
      "3/3 [==============================] - 0s 3ms/step\n"
     ]
    }
   ],
   "source": [
    "y_test[\"Predictions\"] = pd.DataFrame(np.where(model_rmsprop.predict(X_test) > .5, 1,0))[0]"
   ]
  },
  {
   "cell_type": "code",
   "execution_count": 89,
   "id": "d1dad09b",
   "metadata": {},
   "outputs": [],
   "source": [
    "y_test = y_test.set_index(\"index\")"
   ]
  },
  {
   "cell_type": "code",
   "execution_count": 90,
   "id": "fe142fed",
   "metadata": {},
   "outputs": [],
   "source": [
    "X_test = X_test.reset_index()\n",
    "X_test = X_test.set_index(\"index\")"
   ]
  },
  {
   "cell_type": "code",
   "execution_count": 91,
   "id": "87df0a1c",
   "metadata": {},
   "outputs": [],
   "source": [
    "ML_preds_df = pd.concat([X_test, y_test], axis=1)"
   ]
  },
  {
   "cell_type": "code",
   "execution_count": 92,
   "id": "8afe0158",
   "metadata": {},
   "outputs": [],
   "source": [
    "ML_preds_df.choice = ML_preds_df.choice.map({ 1:\"TRAIN\",  0: \"CAR\" })\n",
    "ML_preds_df.Predictions = ML_preds_df.Predictions.map({ 1:\"TRAIN\",  0: \"CAR\" })"
   ]
  },
  {
   "cell_type": "code",
   "execution_count": 93,
   "id": "b04150d6",
   "metadata": {},
   "outputs": [],
   "source": [
    "ML_preds_df = ML_preds_df.rename({\"choice\":\"Actual\",\"Predictions\":\"Predicted\"},axis = 1)"
   ]
  },
  {
   "cell_type": "code",
   "execution_count": 94,
   "id": "f4f64361",
   "metadata": {},
   "outputs": [],
   "source": [
    "correct_list = [0] * len(ML_preds_df)\n",
    "for i in range(len(ML_preds_df.reset_index())):\n",
    "    if ML_preds_df.reset_index().Actual[i] == ML_preds_df.reset_index().Predicted[i]:\n",
    "        correct_list[i] = 1\n",
    "    else:\n",
    "        correct_list[i] = 0"
   ]
  },
  {
   "cell_type": "code",
   "execution_count": 95,
   "id": "00c0e810",
   "metadata": {},
   "outputs": [],
   "source": [
    "ML_preds_df = ML_preds_df.reset_index()\n",
    "ML_preds_df[\"Correct\"] = correct_list\n",
    "ML_preds_df = ML_preds_df.set_index(\"index\")"
   ]
  },
  {
   "cell_type": "code",
   "execution_count": 96,
   "id": "3f225a74",
   "metadata": {},
   "outputs": [],
   "source": [
    "ML_preds_df.to_excel(\"Case_3_Best_ML_model_result.xlsx\")"
   ]
  },
  {
   "cell_type": "code",
   "execution_count": null,
   "id": "6050b912",
   "metadata": {},
   "outputs": [],
   "source": []
  },
  {
   "cell_type": "markdown",
   "id": "1044e86a",
   "metadata": {},
   "source": [
    "# <font color = red>Conclusion </font>"
   ]
  },
  {
   "cell_type": "markdown",
   "id": "a6057060",
   "metadata": {},
   "source": [
    "It appears that neural net models returned a model accuracies of >= 79% given the parameters and data specified in this test study.  These results were the highest of that observed in all ML models considered herein.  Further investigation would likely involve adjusting various hyperparameters defining these such models (or others not explored in this study), such as by a grid search approach, to see if predictive improvements may be possible on this data set."
   ]
  }
 ],
 "metadata": {
  "kernelspec": {
   "display_name": "Python 3 (ipykernel)",
   "language": "python",
   "name": "python3"
  },
  "language_info": {
   "codemirror_mode": {
    "name": "ipython",
    "version": 3
   },
   "file_extension": ".py",
   "mimetype": "text/x-python",
   "name": "python",
   "nbconvert_exporter": "python",
   "pygments_lexer": "ipython3",
   "version": "3.9.13"
  }
 },
 "nbformat": 4,
 "nbformat_minor": 5
}
